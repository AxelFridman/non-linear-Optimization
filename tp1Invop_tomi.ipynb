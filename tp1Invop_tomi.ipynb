{
  "cells": [
    {
      "cell_type": "markdown",
      "id": "4f02fc9a",
      "metadata": {
        "id": "4f02fc9a"
      },
      "source": [
        "# TP 1 (Tomas Palazzo, Noe Hsueh, Axel Fridman)"
      ]
    },
    {
      "cell_type": "markdown",
      "id": "be25acf0",
      "metadata": {
        "id": "be25acf0"
      },
      "source": [
        "### Importacion de librerias"
      ]
    },
    {
      "cell_type": "code",
      "execution_count": 108,
      "id": "b30f48dd",
      "metadata": {
        "id": "b30f48dd",
        "outputId": "46967422-eaf5-49ba-d6a9-1e9353e0ea9f",
        "colab": {
          "base_uri": "https://localhost:8080/"
        }
      },
      "outputs": [
        {
          "output_type": "stream",
          "name": "stdout",
          "text": [
            "Looking in indexes: https://pypi.org/simple, https://us-python.pkg.dev/colab-wheels/public/simple/\n",
            "Requirement already satisfied: seaborn in /usr/local/lib/python3.7/dist-packages (0.11.2)\n",
            "Requirement already satisfied: scipy>=1.0 in /usr/local/lib/python3.7/dist-packages (from seaborn) (1.7.3)\n",
            "Requirement already satisfied: numpy>=1.15 in /usr/local/lib/python3.7/dist-packages (from seaborn) (1.21.6)\n",
            "Requirement already satisfied: matplotlib>=2.2 in /usr/local/lib/python3.7/dist-packages (from seaborn) (3.2.2)\n",
            "Requirement already satisfied: pandas>=0.23 in /usr/local/lib/python3.7/dist-packages (from seaborn) (1.3.5)\n",
            "Requirement already satisfied: cycler>=0.10 in /usr/local/lib/python3.7/dist-packages (from matplotlib>=2.2->seaborn) (0.11.0)\n",
            "Requirement already satisfied: python-dateutil>=2.1 in /usr/local/lib/python3.7/dist-packages (from matplotlib>=2.2->seaborn) (2.8.2)\n",
            "Requirement already satisfied: pyparsing!=2.0.4,!=2.1.2,!=2.1.6,>=2.0.1 in /usr/local/lib/python3.7/dist-packages (from matplotlib>=2.2->seaborn) (3.0.9)\n",
            "Requirement already satisfied: kiwisolver>=1.0.1 in /usr/local/lib/python3.7/dist-packages (from matplotlib>=2.2->seaborn) (1.4.4)\n",
            "Requirement already satisfied: typing-extensions in /usr/local/lib/python3.7/dist-packages (from kiwisolver>=1.0.1->matplotlib>=2.2->seaborn) (4.1.1)\n",
            "Requirement already satisfied: pytz>=2017.3 in /usr/local/lib/python3.7/dist-packages (from pandas>=0.23->seaborn) (2022.6)\n",
            "Requirement already satisfied: six>=1.5 in /usr/local/lib/python3.7/dist-packages (from python-dateutil>=2.1->matplotlib>=2.2->seaborn) (1.15.0)\n"
          ]
        }
      ],
      "source": [
        "pip install seaborn"
      ]
    },
    {
      "cell_type": "code",
      "execution_count": 167,
      "id": "23fe73f3",
      "metadata": {
        "id": "23fe73f3"
      },
      "outputs": [],
      "source": [
        "import numpy as np\n",
        "import matplotlib.pyplot as plt\n",
        "import plotly\n",
        "import plotly.express as px\n",
        "import plotly.graph_objs as go\n",
        "from plotly.offline import init_notebook_mode, iplot\n",
        "import pandas as pd\n",
        "import pickle\n",
        "import time\n",
        "import math\n",
        "import seaborn as sns\n",
        "import random"
      ]
    },
    {
      "cell_type": "code",
      "execution_count": 110,
      "id": "NB8AgIZQel_i",
      "metadata": {
        "id": "NB8AgIZQel_i"
      },
      "outputs": [],
      "source": [
        "import sys\n",
        "#from google.colab import drive"
      ]
    },
    {
      "cell_type": "code",
      "execution_count": 111,
      "id": "-Td4d3eOexmB",
      "metadata": {
        "id": "-Td4d3eOexmB"
      },
      "outputs": [],
      "source": [
        "#drive.mount('/content/gdrive')"
      ]
    },
    {
      "cell_type": "markdown",
      "id": "fc44c0ea",
      "metadata": {
        "id": "fc44c0ea"
      },
      "source": [
        "### Funciones auxiliares"
      ]
    },
    {
      "cell_type": "code",
      "execution_count": 112,
      "id": "71dacfda",
      "metadata": {
        "id": "71dacfda"
      },
      "outputs": [],
      "source": [
        "def derivadaEn1Punto1coordenada(f,Xs, x, h=0.01):\n",
        "  extra = np.zeros(len(Xs))\n",
        "  extra[x]=1\n",
        "  return((f(Xs+extra*h)-f(Xs-extra*h))/(2*h))"
      ]
    },
    {
      "cell_type": "code",
      "execution_count": 113,
      "id": "2c487ebf",
      "metadata": {
        "id": "2c487ebf"
      },
      "outputs": [],
      "source": [
        "def gradiente(f,Xs, h=0.01):\n",
        "  df = np.zeros(len(Xs))\n",
        "  for i in range(0, len(Xs)):\n",
        "    df[i]= derivadaEn1Punto1coordenada(f,Xs, i, h)\n",
        "  return(df)"
      ]
    },
    {
      "cell_type": "code",
      "execution_count": 114,
      "id": "4c15f4e2",
      "metadata": {
        "id": "4c15f4e2"
      },
      "outputs": [],
      "source": [
        "def hessiano(f, xs, h=0.01):\n",
        "    hes = np.zeros((len(xs), len(xs)))\n",
        "    for i in range(0,len(xs)):\n",
        "        for j in range(0, len(xs)):\n",
        "            extra = np.zeros(len(xs))\n",
        "            extra[i] = 1\n",
        "            grad1 = derivadaEn1Punto1coordenada(f, xs+extra*h, j)\n",
        "            \n",
        "\n",
        "            grad2 = derivadaEn1Punto1coordenada(f, xs-extra*h, j)\n",
        "\n",
        "            hes[i,j] = ((grad1-grad2)/(2*h))\n",
        "           \n",
        "    return (hes)"
      ]
    },
    {
      "cell_type": "code",
      "execution_count": 115,
      "id": "776617ed",
      "metadata": {
        "id": "776617ed"
      },
      "outputs": [],
      "source": [
        "def seccionAurea(f, x, d, epsilon, p ):\n",
        "    theta1 = (3- math.sqrt(5))/2\n",
        "    theta2 = 1 - theta1\n",
        "    a = 0\n",
        "    s = p\n",
        "    b = 2*p\n",
        "    phiB = f(x+ b*d)\n",
        "    phiS = f(x+ s*d)\n",
        "    while(phiB<phiS):\n",
        "        a = s\n",
        "        s = b\n",
        "        b = 2*b\n",
        "        phiS = phiB\n",
        "        phiB = f(x + b * d)\n",
        "    u = a + theta1 * (b-a)\n",
        "    v = a + theta2 * (b-a)\n",
        "    phiU = f(x + u*d)\n",
        "    phiV = f(x + v*d)\n",
        "    while((b-a)>epsilon):\n",
        "        if(phiU<phiV):\n",
        "            b = v\n",
        "            v = u\n",
        "            u = a + theta1*(b-a)\n",
        "            phiV = phiU\n",
        "            phiU = f(x + u * d)\n",
        "        else:\n",
        "            a = u\n",
        "            u = v\n",
        "            v = a + theta2*(b-a)\n",
        "            phiU = phiV\n",
        "            phiV = f(x + v * d)\n",
        "    return((u+v)/2)\n",
        "            "
      ]
    },
    {
      "cell_type": "markdown",
      "id": "1a7d7a5f",
      "metadata": {
        "id": "1a7d7a5f"
      },
      "source": [
        "### Funciones gradiente (normal, no conjugado)"
      ]
    },
    {
      "cell_type": "code",
      "execution_count": 116,
      "id": "cc17fc38",
      "metadata": {
        "id": "cc17fc38"
      },
      "outputs": [],
      "source": [
        "def metodo_gradienteCuadraticas(A, b, x_0, max_iter, l=0):\n",
        "  k = 0\n",
        "  x = x_0\n",
        "  d = -A @ x_0 - b\n",
        "  while((k <= max_iter) and (np.linalg.norm(d) > 10e-6)):\n",
        "    if l == 0:\n",
        "     l = np.random.rand()\n",
        "    t = l*((d.T @ d)/(d.T @ A @ d))\n",
        "    x += t*d\n",
        "    d = -A@x - b\n",
        "    k = k +  1\n",
        "  if(k==max_iter):\n",
        "    print(\"ALCANZO MAX ITERACION!\")\n",
        "  return x, k \n"
      ]
    },
    {
      "cell_type": "code",
      "execution_count": 117,
      "id": "afdb59b4",
      "metadata": {
        "id": "afdb59b4"
      },
      "outputs": [],
      "source": [
        "def metodo_gradienteCuadraticasRotado(A, b, x_0, max_iter, l=0, theta=0):\n",
        "  k = 0\n",
        "  x = x_0\n",
        "  rot = np.array([[np.cos(theta), -np.sin(theta)], [np.sin(theta), np.cos(theta)]])\n",
        "  d = -A @ x_0 - b\n",
        "  dk2 = d\n",
        "  while((k <= max_iter) and (np.linalg.norm(d) > 10e-6)):\n",
        "    if l == 0:\n",
        "     l = np.random.rand()\n",
        "    \n",
        "    t = l*((d.T @ d)/(d.T @ A @ d))\n",
        "    t2 = l*((dk2.T @ dk2)/(dk2.T @ A @ dk2))\n",
        "    x += t*d\n",
        "    d = -A@x - b\n",
        "    dk2 = (rot @ d)\n",
        "    xpot = x + dk2*t2\n",
        "    if(dk2@ (-d)<0): #xpot.T@A@xpot < x.T@A@x ):\n",
        "        d = dk2        \n",
        "    k = k +  1\n",
        "  if(k==max_iter):\n",
        "    print(\"ALCANZO MAX ITERACION!\")\n",
        "  return x, k \n"
      ]
    },
    {
      "cell_type": "code",
      "execution_count": 118,
      "id": "09ee1c5e",
      "metadata": {
        "id": "09ee1c5e"
      },
      "outputs": [],
      "source": [
        "def metodo_gradienteGenerico(f, x0, epsilon=0.001, maxiter=10000, n=0.4, beta=5): \n",
        "  precision = epsilon\n",
        "  iter = 0\n",
        "  x = x0\n",
        "  xs = [x]\n",
        "  \n",
        "  grad = gradiente(f, x, epsilon)\n",
        "  ds = [-1*grad]\n",
        "  while(np.linalg.norm(grad)>precision and iter<maxiter):\n",
        "      d = -1*grad\n",
        "      t = busquedaArmijo(f, x, d, n, beta )\n",
        "      x = x+t*d\n",
        "      grad = gradiente(f, x, epsilon)\n",
        "      iter = iter + 1\n",
        "      xs.append(x)\n",
        "      ds.append(-1*grad)\n",
        "  if(iter==maxiter):\n",
        "    print(\"ALCANZO MAX ITERACION!\")\n",
        "  return xs, ds , iter"
      ]
    },
    {
      "cell_type": "markdown",
      "id": "3a0a29be",
      "metadata": {
        "id": "3a0a29be"
      },
      "source": [
        "### Metodos de gradiente conjugado"
      ]
    },
    {
      "cell_type": "code",
      "execution_count": 119,
      "id": "86f3dce3",
      "metadata": {
        "id": "86f3dce3"
      },
      "outputs": [],
      "source": [
        "def metodo_gradienteConjugadoCuadraticas(A, b, x0, epsilon=0.001, maxiter=10000): \n",
        "  precision = epsilon\n",
        "  iter = 0\n",
        "  x = x0\n",
        "  xs = [x]\n",
        "  d = -(A@x0+b)\n",
        "  ds = [d]\n",
        "  while(np.linalg.norm(A@x+b)>precision and iter<maxiter):\n",
        "      t = -((A@x+b).T@d) / (d.T@A@d)\n",
        "      x = x+t*d\n",
        "      bk = (d.T@A@(A@x+b)) / (d.T@A@d)\n",
        "      d = -(A@x+b) + bk*d\n",
        "      \n",
        "      iter = iter + 1\n",
        "      xs.append(x)\n",
        "      ds.append(d)\n",
        "  if(iter==maxiter):\n",
        "    print(\"ALCANZO MAX ITERACION!\")\n",
        "  return xs[len(xs)-1] , iter, xs"
      ]
    },
    {
      "cell_type": "code",
      "execution_count": 120,
      "id": "45139011",
      "metadata": {
        "id": "45139011"
      },
      "outputs": [],
      "source": [
        "def metodo_gradienteConjugadoGenerico(f, x0, epsilon=0.01, maxiter=10000): \n",
        "  precision = epsilon\n",
        "  iter = 0\n",
        "  x = x0\n",
        "  xs = [x]\n",
        "  grad = gradiente(f, x, 10**-5)\n",
        "  d = -1*grad\n",
        "  ds = [-1*grad]\n",
        "  while(np.linalg.norm(grad)>precision and iter<maxiter):\n",
        "      \n",
        "      t = seccionAurea(f, x, d, 10**-5, 1)\n",
        "      x = x+t*d\n",
        "      if((iter+1) % len(x0) != 0):\n",
        "        xant = xs[-1]\n",
        "        bk = (gradiente(f,x).T @ gradiente(f,x)) / (gradiente(f,xant).T @ gradiente(f,xant))\n",
        "      else:\n",
        "        bk = 0\n",
        "      d = -1* gradiente(f, x) + bk * d\n",
        "      grad = gradiente(f, x, epsilon)\n",
        "      iter = iter + 1\n",
        "      xs.append(x)\n",
        "      ds.append(d)\n",
        "  if(iter==maxiter):\n",
        "    print(\"ALCANZO MAX ITERACION!\")\n",
        "  return xs[-1] , iter, xs"
      ]
    },
    {
      "cell_type": "markdown",
      "id": "ceb6e077",
      "metadata": {
        "id": "ceb6e077"
      },
      "source": [
        "### Metodos de newton"
      ]
    },
    {
      "cell_type": "code",
      "execution_count": 121,
      "id": "274cd8a2",
      "metadata": {
        "id": "274cd8a2"
      },
      "outputs": [],
      "source": [
        "def newtonParaCuadraticas(A, b, x0, eps, maxIter):\n",
        "    iter = 0\n",
        "    x = x0\n",
        "    dk = A@x0+b\n",
        "    xs = [x]\n",
        "    while(np.linalg.norm(dk)>eps and iter<maxIter):\n",
        "        dk = np.linalg.solve(A, -(A@x+b))\n",
        "        x = x + dk\n",
        "        iter = iter + 1\n",
        "        xs.append(x)\n",
        "    return(x, iter, xs)"
      ]
    },
    {
      "cell_type": "code",
      "execution_count": 122,
      "id": "5ea58e59",
      "metadata": {
        "id": "5ea58e59"
      },
      "outputs": [],
      "source": [
        "def newtonConModificacionLevenbergMarquardt(f, x0, gamma, eps = 0.01, maxIter=1000):\n",
        "  iter = 0\n",
        "  x = x0\n",
        "  xs = [x]\n",
        "  grad = gradiente(f, x, 10**-5)\n",
        "  while(np.linalg.norm(grad)>eps and iter<maxIter):\n",
        "    grad = gradiente(f, x, 10**-5)\n",
        "    B = hessiano(f, x, 10**-5)\n",
        "    u = min(np.linalg.eigvals(B))\n",
        "    if(u<=0):\n",
        "      B = B + (-u + gamma)*np.identity(len(B))\n",
        "    dk = np.linalg.solve(B, -grad)\n",
        "    tk = seccionAurea(f, x, dk, 10**-5, 1)\n",
        "    x = x + dk*tk\n",
        "    xs.append(x)\n",
        "    iter = iter + 1\n",
        "  return(x, iter, xs)"
      ]
    },
    {
      "cell_type": "markdown",
      "id": "639ebb70",
      "metadata": {
        "id": "639ebb70"
      },
      "source": [
        "### Metodos de cuasi newton"
      ]
    },
    {
      "cell_type": "code",
      "execution_count": 123,
      "id": "bb78def4",
      "metadata": {
        "id": "bb78def4"
      },
      "outputs": [],
      "source": [
        "def cuasiNewtonParaCuadraticas(A, b, x0, h0, eps, maxIter):\n",
        "    itera = 0\n",
        "    xViejo = x0\n",
        "    hk = h0\n",
        "    dkViejo = A@xViejo+b\n",
        "    xs = [xViejo]\n",
        "    while(np.linalg.norm(dkViejo)>eps and itera<maxIter):\n",
        "        dkNuevo = A@xViejo+b\n",
        "        dkNuevo = -hk@dkNuevo \n",
        "        tk =  (dkNuevo @ dkNuevo.T)/(dkNuevo.T@A@dkNuevo)\n",
        "        xNuevo = xViejo + dkNuevo * tk\n",
        "        sk = (xNuevo - xViejo)\n",
        "        yk = A@sk\n",
        "        hk = metodoDFP(hk, sk, yk) #cheqear si broyden es lo mejor\n",
        "                                      \n",
        "        itera = itera + 1\n",
        "        xs.append(xNuevo)\n",
        "        \n",
        "        xViejo = xNuevo\n",
        "        dkViejo = dkNuevo\n",
        "    return(xViejo, itera, xs)"
      ]
    },
    {
      "cell_type": "code",
      "execution_count": 124,
      "id": "6c342906",
      "metadata": {
        "id": "6c342906"
      },
      "outputs": [],
      "source": [
        "def broydenMala(hk, sk, yk):\n",
        "    res = hk + (np.outer((sk-hk@yk),(sk-hk@yk).T)) / (yk.T@(sk-hk@yk))\n",
        "    return res"
      ]
    },
    {
      "cell_type": "code",
      "execution_count": 125,
      "id": "de471c91",
      "metadata": {
        "id": "de471c91"
      },
      "outputs": [],
      "source": [
        "def metodoDFP(hk, sk, yk):\n",
        "    res = hk + (np.outer(sk,sk.T))/(yk.T@sk)\n",
        "    res = res -  (hk@np.outer(yk,(yk.T))@hk)/(yk.T@ hk@yk)\n",
        "    return res"
      ]
    },
    {
      "cell_type": "code",
      "execution_count": 126,
      "id": "b7be3fb6",
      "metadata": {
        "id": "b7be3fb6"
      },
      "outputs": [],
      "source": [
        "def metodoBFGS(hk, sk, yk):\n",
        "    res = hk + (1+(yk.T@hk@yk)/(sk.T@yk)) * (sk@sk.T)/(sk.T@yk)\n",
        "    res = res - ((sk @ (yk.T) @ hk) + hk@yk@(sk.T))/(sk.T@yk)\n",
        "    return res"
      ]
    },
    {
      "cell_type": "markdown",
      "id": "476bb43b",
      "metadata": {
        "id": "476bb43b"
      },
      "source": [
        "## Cargar los archivos con las matrices generadas por nosotros previamente"
      ]
    },
    {
      "cell_type": "code",
      "execution_count": 127,
      "id": "rCaEdvXTfGZK",
      "metadata": {
        "id": "rCaEdvXTfGZK"
      },
      "outputs": [],
      "source": [
        "#pick_read = open('/content/gdrive/MyDrive/UBA/invop/tps/matrices.pkl','rb')\n",
        "#mats = pickle.load(pick_read)\n",
        "#pick_read.close()\n",
        "with open('matrices.pkl', 'rb') as f:\n",
        "    F = pickle.load(f)"
      ]
    },
    {
      "cell_type": "code",
      "execution_count": 128,
      "id": "ca266624",
      "metadata": {
        "id": "ca266624"
      },
      "outputs": [],
      "source": [
        "df =  pd.read_csv('infos.csv')#pd.read_csv('/content/gdrive/MyDrive/UBA/invop/tps/infos.csv')\n",
        "dfResEj1 = pd.read_csv(\"dfResEj1.csv\")"
      ]
    },
    {
      "cell_type": "code",
      "source": [
        "dfResEj1"
      ],
      "metadata": {
        "colab": {
          "base_uri": "https://localhost:8080/",
          "height": 424
        },
        "id": "jDJsXP8L7_or",
        "outputId": "af004562-33c0-4acf-b039-7bb5231689fd"
      },
      "id": "jDJsXP8L7_or",
      "execution_count": 129,
      "outputs": [
        {
          "output_type": "execute_result",
          "data": {
            "text/plain": [
              "     Unnamed: 0  rangoAutovalores  pasos  iters    tiempo\n",
              "0             0         25.912112   0.25    580  0.051765\n",
              "1             1        114.902882   0.25   2427  0.181708\n",
              "2             2        231.349131   0.25   2425  0.112436\n",
              "3             3        419.515994   0.25   1821  0.055285\n",
              "4             4        657.749185   0.25   4462  0.146683\n",
              "..          ...               ...    ...    ...       ...\n",
              "695         695     207126.781011   0.00   4369  0.088759\n",
              "696         696     204013.886835   0.00   1547  0.025505\n",
              "697         697     220471.822442   0.00    860  0.026129\n",
              "698         698     278204.008383   0.00   3343  0.072586\n",
              "699         699     339131.491303   0.00   1017  0.016759\n",
              "\n",
              "[700 rows x 5 columns]"
            ],
            "text/html": [
              "\n",
              "  <div id=\"df-9ff82bc6-8ebc-4721-8e25-c7e2f87d5154\">\n",
              "    <div class=\"colab-df-container\">\n",
              "      <div>\n",
              "<style scoped>\n",
              "    .dataframe tbody tr th:only-of-type {\n",
              "        vertical-align: middle;\n",
              "    }\n",
              "\n",
              "    .dataframe tbody tr th {\n",
              "        vertical-align: top;\n",
              "    }\n",
              "\n",
              "    .dataframe thead th {\n",
              "        text-align: right;\n",
              "    }\n",
              "</style>\n",
              "<table border=\"1\" class=\"dataframe\">\n",
              "  <thead>\n",
              "    <tr style=\"text-align: right;\">\n",
              "      <th></th>\n",
              "      <th>Unnamed: 0</th>\n",
              "      <th>rangoAutovalores</th>\n",
              "      <th>pasos</th>\n",
              "      <th>iters</th>\n",
              "      <th>tiempo</th>\n",
              "    </tr>\n",
              "  </thead>\n",
              "  <tbody>\n",
              "    <tr>\n",
              "      <th>0</th>\n",
              "      <td>0</td>\n",
              "      <td>25.912112</td>\n",
              "      <td>0.25</td>\n",
              "      <td>580</td>\n",
              "      <td>0.051765</td>\n",
              "    </tr>\n",
              "    <tr>\n",
              "      <th>1</th>\n",
              "      <td>1</td>\n",
              "      <td>114.902882</td>\n",
              "      <td>0.25</td>\n",
              "      <td>2427</td>\n",
              "      <td>0.181708</td>\n",
              "    </tr>\n",
              "    <tr>\n",
              "      <th>2</th>\n",
              "      <td>2</td>\n",
              "      <td>231.349131</td>\n",
              "      <td>0.25</td>\n",
              "      <td>2425</td>\n",
              "      <td>0.112436</td>\n",
              "    </tr>\n",
              "    <tr>\n",
              "      <th>3</th>\n",
              "      <td>3</td>\n",
              "      <td>419.515994</td>\n",
              "      <td>0.25</td>\n",
              "      <td>1821</td>\n",
              "      <td>0.055285</td>\n",
              "    </tr>\n",
              "    <tr>\n",
              "      <th>4</th>\n",
              "      <td>4</td>\n",
              "      <td>657.749185</td>\n",
              "      <td>0.25</td>\n",
              "      <td>4462</td>\n",
              "      <td>0.146683</td>\n",
              "    </tr>\n",
              "    <tr>\n",
              "      <th>...</th>\n",
              "      <td>...</td>\n",
              "      <td>...</td>\n",
              "      <td>...</td>\n",
              "      <td>...</td>\n",
              "      <td>...</td>\n",
              "    </tr>\n",
              "    <tr>\n",
              "      <th>695</th>\n",
              "      <td>695</td>\n",
              "      <td>207126.781011</td>\n",
              "      <td>0.00</td>\n",
              "      <td>4369</td>\n",
              "      <td>0.088759</td>\n",
              "    </tr>\n",
              "    <tr>\n",
              "      <th>696</th>\n",
              "      <td>696</td>\n",
              "      <td>204013.886835</td>\n",
              "      <td>0.00</td>\n",
              "      <td>1547</td>\n",
              "      <td>0.025505</td>\n",
              "    </tr>\n",
              "    <tr>\n",
              "      <th>697</th>\n",
              "      <td>697</td>\n",
              "      <td>220471.822442</td>\n",
              "      <td>0.00</td>\n",
              "      <td>860</td>\n",
              "      <td>0.026129</td>\n",
              "    </tr>\n",
              "    <tr>\n",
              "      <th>698</th>\n",
              "      <td>698</td>\n",
              "      <td>278204.008383</td>\n",
              "      <td>0.00</td>\n",
              "      <td>3343</td>\n",
              "      <td>0.072586</td>\n",
              "    </tr>\n",
              "    <tr>\n",
              "      <th>699</th>\n",
              "      <td>699</td>\n",
              "      <td>339131.491303</td>\n",
              "      <td>0.00</td>\n",
              "      <td>1017</td>\n",
              "      <td>0.016759</td>\n",
              "    </tr>\n",
              "  </tbody>\n",
              "</table>\n",
              "<p>700 rows × 5 columns</p>\n",
              "</div>\n",
              "      <button class=\"colab-df-convert\" onclick=\"convertToInteractive('df-9ff82bc6-8ebc-4721-8e25-c7e2f87d5154')\"\n",
              "              title=\"Convert this dataframe to an interactive table.\"\n",
              "              style=\"display:none;\">\n",
              "        \n",
              "  <svg xmlns=\"http://www.w3.org/2000/svg\" height=\"24px\"viewBox=\"0 0 24 24\"\n",
              "       width=\"24px\">\n",
              "    <path d=\"M0 0h24v24H0V0z\" fill=\"none\"/>\n",
              "    <path d=\"M18.56 5.44l.94 2.06.94-2.06 2.06-.94-2.06-.94-.94-2.06-.94 2.06-2.06.94zm-11 1L8.5 8.5l.94-2.06 2.06-.94-2.06-.94L8.5 2.5l-.94 2.06-2.06.94zm10 10l.94 2.06.94-2.06 2.06-.94-2.06-.94-.94-2.06-.94 2.06-2.06.94z\"/><path d=\"M17.41 7.96l-1.37-1.37c-.4-.4-.92-.59-1.43-.59-.52 0-1.04.2-1.43.59L10.3 9.45l-7.72 7.72c-.78.78-.78 2.05 0 2.83L4 21.41c.39.39.9.59 1.41.59.51 0 1.02-.2 1.41-.59l7.78-7.78 2.81-2.81c.8-.78.8-2.07 0-2.86zM5.41 20L4 18.59l7.72-7.72 1.47 1.35L5.41 20z\"/>\n",
              "  </svg>\n",
              "      </button>\n",
              "      \n",
              "  <style>\n",
              "    .colab-df-container {\n",
              "      display:flex;\n",
              "      flex-wrap:wrap;\n",
              "      gap: 12px;\n",
              "    }\n",
              "\n",
              "    .colab-df-convert {\n",
              "      background-color: #E8F0FE;\n",
              "      border: none;\n",
              "      border-radius: 50%;\n",
              "      cursor: pointer;\n",
              "      display: none;\n",
              "      fill: #1967D2;\n",
              "      height: 32px;\n",
              "      padding: 0 0 0 0;\n",
              "      width: 32px;\n",
              "    }\n",
              "\n",
              "    .colab-df-convert:hover {\n",
              "      background-color: #E2EBFA;\n",
              "      box-shadow: 0px 1px 2px rgba(60, 64, 67, 0.3), 0px 1px 3px 1px rgba(60, 64, 67, 0.15);\n",
              "      fill: #174EA6;\n",
              "    }\n",
              "\n",
              "    [theme=dark] .colab-df-convert {\n",
              "      background-color: #3B4455;\n",
              "      fill: #D2E3FC;\n",
              "    }\n",
              "\n",
              "    [theme=dark] .colab-df-convert:hover {\n",
              "      background-color: #434B5C;\n",
              "      box-shadow: 0px 1px 3px 1px rgba(0, 0, 0, 0.15);\n",
              "      filter: drop-shadow(0px 1px 2px rgba(0, 0, 0, 0.3));\n",
              "      fill: #FFFFFF;\n",
              "    }\n",
              "  </style>\n",
              "\n",
              "      <script>\n",
              "        const buttonEl =\n",
              "          document.querySelector('#df-9ff82bc6-8ebc-4721-8e25-c7e2f87d5154 button.colab-df-convert');\n",
              "        buttonEl.style.display =\n",
              "          google.colab.kernel.accessAllowed ? 'block' : 'none';\n",
              "\n",
              "        async function convertToInteractive(key) {\n",
              "          const element = document.querySelector('#df-9ff82bc6-8ebc-4721-8e25-c7e2f87d5154');\n",
              "          const dataTable =\n",
              "            await google.colab.kernel.invokeFunction('convertToInteractive',\n",
              "                                                     [key], {});\n",
              "          if (!dataTable) return;\n",
              "\n",
              "          const docLinkHtml = 'Like what you see? Visit the ' +\n",
              "            '<a target=\"_blank\" href=https://colab.research.google.com/notebooks/data_table.ipynb>data table notebook</a>'\n",
              "            + ' to learn more about interactive tables.';\n",
              "          element.innerHTML = '';\n",
              "          dataTable['output_type'] = 'display_data';\n",
              "          await google.colab.output.renderOutput(dataTable, element);\n",
              "          const docLink = document.createElement('div');\n",
              "          docLink.innerHTML = docLinkHtml;\n",
              "          element.appendChild(docLink);\n",
              "        }\n",
              "      </script>\n",
              "    </div>\n",
              "  </div>\n",
              "  "
            ]
          },
          "metadata": {},
          "execution_count": 129
        }
      ]
    },
    {
      "cell_type": "code",
      "execution_count": 130,
      "id": "a4abee56",
      "metadata": {
        "id": "a4abee56"
      },
      "outputs": [],
      "source": [
        "df[\"mat\"] = F.values() #mats.values()"
      ]
    },
    {
      "cell_type": "code",
      "execution_count": 131,
      "id": "1f02717a",
      "metadata": {
        "colab": {
          "base_uri": "https://localhost:8080/",
          "height": 206
        },
        "id": "1f02717a",
        "outputId": "6833b60f-96c8-443f-aafe-e152dc7ad493"
      },
      "outputs": [
        {
          "output_type": "execute_result",
          "data": {
            "text/plain": [
              "   Unnamed: 0 tamanio                      autovalores  autovalorMax  \\\n",
              "0           0  (2, 2)  [2.13039600e+00 1.53733452e-04]      2.130396   \n",
              "1           1  (2, 2)          [5.0753714  0.10702353]      5.075371   \n",
              "2           2  (2, 2)          [8.90007051 1.18815833]      8.900071   \n",
              "3           3  (2, 2)  [5.48386614e+00 3.73334809e-04]      5.483866   \n",
              "4           4  (2, 2)        [12.15494409 24.71610474]     24.716105   \n",
              "\n",
              "   autovalorMin  rangoAutovalores  \\\n",
              "0      0.000154          2.130242   \n",
              "1      0.107024          4.968348   \n",
              "2      1.188158          7.711912   \n",
              "3      0.000373          5.483493   \n",
              "4     12.154944         12.561161   \n",
              "\n",
              "                                                 mat  \n",
              "0  [[1.4277800159666887, 1.0015353443246913], [1....  \n",
              "1  [[3.1084677041108315, 2.4297225441430976], [2....  \n",
              "2  [[6.319120032244062, 3.6390600481153315], [3.6...  \n",
              "3  [[5.203384950030568, 1.2080343186411266], [1.2...  \n",
              "4  [[16.76994508395115, 6.055702662291634], [6.05...  "
            ],
            "text/html": [
              "\n",
              "  <div id=\"df-ce33672b-2cc0-4073-bb66-363f3344f272\">\n",
              "    <div class=\"colab-df-container\">\n",
              "      <div>\n",
              "<style scoped>\n",
              "    .dataframe tbody tr th:only-of-type {\n",
              "        vertical-align: middle;\n",
              "    }\n",
              "\n",
              "    .dataframe tbody tr th {\n",
              "        vertical-align: top;\n",
              "    }\n",
              "\n",
              "    .dataframe thead th {\n",
              "        text-align: right;\n",
              "    }\n",
              "</style>\n",
              "<table border=\"1\" class=\"dataframe\">\n",
              "  <thead>\n",
              "    <tr style=\"text-align: right;\">\n",
              "      <th></th>\n",
              "      <th>Unnamed: 0</th>\n",
              "      <th>tamanio</th>\n",
              "      <th>autovalores</th>\n",
              "      <th>autovalorMax</th>\n",
              "      <th>autovalorMin</th>\n",
              "      <th>rangoAutovalores</th>\n",
              "      <th>mat</th>\n",
              "    </tr>\n",
              "  </thead>\n",
              "  <tbody>\n",
              "    <tr>\n",
              "      <th>0</th>\n",
              "      <td>0</td>\n",
              "      <td>(2, 2)</td>\n",
              "      <td>[2.13039600e+00 1.53733452e-04]</td>\n",
              "      <td>2.130396</td>\n",
              "      <td>0.000154</td>\n",
              "      <td>2.130242</td>\n",
              "      <td>[[1.4277800159666887, 1.0015353443246913], [1....</td>\n",
              "    </tr>\n",
              "    <tr>\n",
              "      <th>1</th>\n",
              "      <td>1</td>\n",
              "      <td>(2, 2)</td>\n",
              "      <td>[5.0753714  0.10702353]</td>\n",
              "      <td>5.075371</td>\n",
              "      <td>0.107024</td>\n",
              "      <td>4.968348</td>\n",
              "      <td>[[3.1084677041108315, 2.4297225441430976], [2....</td>\n",
              "    </tr>\n",
              "    <tr>\n",
              "      <th>2</th>\n",
              "      <td>2</td>\n",
              "      <td>(2, 2)</td>\n",
              "      <td>[8.90007051 1.18815833]</td>\n",
              "      <td>8.900071</td>\n",
              "      <td>1.188158</td>\n",
              "      <td>7.711912</td>\n",
              "      <td>[[6.319120032244062, 3.6390600481153315], [3.6...</td>\n",
              "    </tr>\n",
              "    <tr>\n",
              "      <th>3</th>\n",
              "      <td>3</td>\n",
              "      <td>(2, 2)</td>\n",
              "      <td>[5.48386614e+00 3.73334809e-04]</td>\n",
              "      <td>5.483866</td>\n",
              "      <td>0.000373</td>\n",
              "      <td>5.483493</td>\n",
              "      <td>[[5.203384950030568, 1.2080343186411266], [1.2...</td>\n",
              "    </tr>\n",
              "    <tr>\n",
              "      <th>4</th>\n",
              "      <td>4</td>\n",
              "      <td>(2, 2)</td>\n",
              "      <td>[12.15494409 24.71610474]</td>\n",
              "      <td>24.716105</td>\n",
              "      <td>12.154944</td>\n",
              "      <td>12.561161</td>\n",
              "      <td>[[16.76994508395115, 6.055702662291634], [6.05...</td>\n",
              "    </tr>\n",
              "  </tbody>\n",
              "</table>\n",
              "</div>\n",
              "      <button class=\"colab-df-convert\" onclick=\"convertToInteractive('df-ce33672b-2cc0-4073-bb66-363f3344f272')\"\n",
              "              title=\"Convert this dataframe to an interactive table.\"\n",
              "              style=\"display:none;\">\n",
              "        \n",
              "  <svg xmlns=\"http://www.w3.org/2000/svg\" height=\"24px\"viewBox=\"0 0 24 24\"\n",
              "       width=\"24px\">\n",
              "    <path d=\"M0 0h24v24H0V0z\" fill=\"none\"/>\n",
              "    <path d=\"M18.56 5.44l.94 2.06.94-2.06 2.06-.94-2.06-.94-.94-2.06-.94 2.06-2.06.94zm-11 1L8.5 8.5l.94-2.06 2.06-.94-2.06-.94L8.5 2.5l-.94 2.06-2.06.94zm10 10l.94 2.06.94-2.06 2.06-.94-2.06-.94-.94-2.06-.94 2.06-2.06.94z\"/><path d=\"M17.41 7.96l-1.37-1.37c-.4-.4-.92-.59-1.43-.59-.52 0-1.04.2-1.43.59L10.3 9.45l-7.72 7.72c-.78.78-.78 2.05 0 2.83L4 21.41c.39.39.9.59 1.41.59.51 0 1.02-.2 1.41-.59l7.78-7.78 2.81-2.81c.8-.78.8-2.07 0-2.86zM5.41 20L4 18.59l7.72-7.72 1.47 1.35L5.41 20z\"/>\n",
              "  </svg>\n",
              "      </button>\n",
              "      \n",
              "  <style>\n",
              "    .colab-df-container {\n",
              "      display:flex;\n",
              "      flex-wrap:wrap;\n",
              "      gap: 12px;\n",
              "    }\n",
              "\n",
              "    .colab-df-convert {\n",
              "      background-color: #E8F0FE;\n",
              "      border: none;\n",
              "      border-radius: 50%;\n",
              "      cursor: pointer;\n",
              "      display: none;\n",
              "      fill: #1967D2;\n",
              "      height: 32px;\n",
              "      padding: 0 0 0 0;\n",
              "      width: 32px;\n",
              "    }\n",
              "\n",
              "    .colab-df-convert:hover {\n",
              "      background-color: #E2EBFA;\n",
              "      box-shadow: 0px 1px 2px rgba(60, 64, 67, 0.3), 0px 1px 3px 1px rgba(60, 64, 67, 0.15);\n",
              "      fill: #174EA6;\n",
              "    }\n",
              "\n",
              "    [theme=dark] .colab-df-convert {\n",
              "      background-color: #3B4455;\n",
              "      fill: #D2E3FC;\n",
              "    }\n",
              "\n",
              "    [theme=dark] .colab-df-convert:hover {\n",
              "      background-color: #434B5C;\n",
              "      box-shadow: 0px 1px 3px 1px rgba(0, 0, 0, 0.15);\n",
              "      filter: drop-shadow(0px 1px 2px rgba(0, 0, 0, 0.3));\n",
              "      fill: #FFFFFF;\n",
              "    }\n",
              "  </style>\n",
              "\n",
              "      <script>\n",
              "        const buttonEl =\n",
              "          document.querySelector('#df-ce33672b-2cc0-4073-bb66-363f3344f272 button.colab-df-convert');\n",
              "        buttonEl.style.display =\n",
              "          google.colab.kernel.accessAllowed ? 'block' : 'none';\n",
              "\n",
              "        async function convertToInteractive(key) {\n",
              "          const element = document.querySelector('#df-ce33672b-2cc0-4073-bb66-363f3344f272');\n",
              "          const dataTable =\n",
              "            await google.colab.kernel.invokeFunction('convertToInteractive',\n",
              "                                                     [key], {});\n",
              "          if (!dataTable) return;\n",
              "\n",
              "          const docLinkHtml = 'Like what you see? Visit the ' +\n",
              "            '<a target=\"_blank\" href=https://colab.research.google.com/notebooks/data_table.ipynb>data table notebook</a>'\n",
              "            + ' to learn more about interactive tables.';\n",
              "          element.innerHTML = '';\n",
              "          dataTable['output_type'] = 'display_data';\n",
              "          await google.colab.output.renderOutput(dataTable, element);\n",
              "          const docLink = document.createElement('div');\n",
              "          docLink.innerHTML = docLinkHtml;\n",
              "          element.appendChild(docLink);\n",
              "        }\n",
              "      </script>\n",
              "    </div>\n",
              "  </div>\n",
              "  "
            ]
          },
          "metadata": {},
          "execution_count": 131
        }
      ],
      "source": [
        "df.head()"
      ]
    },
    {
      "cell_type": "markdown",
      "id": "864ffdcd",
      "metadata": {
        "id": "864ffdcd"
      },
      "source": [
        "Ejercicio 1\n",
        "\n",
        "```\n",
        "\n",
        "```\n",
        "\n"
      ]
    },
    {
      "cell_type": "markdown",
      "id": "af72d488",
      "metadata": {
        "id": "af72d488"
      },
      "source": [
        "NO CORRER. YA ESTAN LOS RESULTADOS"
      ]
    },
    {
      "cell_type": "code",
      "execution_count": 132,
      "id": "waqGzp5hs9y2",
      "metadata": {
        "id": "waqGzp5hs9y2",
        "colab": {
          "base_uri": "https://localhost:8080/",
          "height": 235
        },
        "outputId": "665c19ed-de23-49b2-d7cf-6a1957acebfc"
      },
      "outputs": [
        {
          "output_type": "error",
          "ename": "NameError",
          "evalue": "ignored",
          "traceback": [
            "\u001b[0;31m---------------------------------------------------------------------------\u001b[0m",
            "\u001b[0;31mNameError\u001b[0m                                 Traceback (most recent call last)",
            "\u001b[0;32m<ipython-input-132-3ad7f8c159b0>\u001b[0m in \u001b[0;36m<module>\u001b[0;34m\u001b[0m\n\u001b[1;32m      8\u001b[0m \u001b[0mrangoAutovals\u001b[0m \u001b[0;34m=\u001b[0m \u001b[0;34m[\u001b[0m\u001b[0;34m]\u001b[0m\u001b[0;34m\u001b[0m\u001b[0;34m\u001b[0m\u001b[0m\n\u001b[1;32m      9\u001b[0m \u001b[0;32mfor\u001b[0m \u001b[0mj\u001b[0m \u001b[0;32min\u001b[0m \u001b[0mrange\u001b[0m\u001b[0;34m(\u001b[0m\u001b[0;36m0\u001b[0m\u001b[0;34m,\u001b[0m \u001b[0mlen\u001b[0m\u001b[0;34m(\u001b[0m\u001b[0mtamaniosPaso\u001b[0m\u001b[0;34m)\u001b[0m\u001b[0;34m)\u001b[0m\u001b[0;34m:\u001b[0m\u001b[0;34m\u001b[0m\u001b[0;34m\u001b[0m\u001b[0m\n\u001b[0;32m---> 10\u001b[0;31m   \u001b[0;32mfor\u001b[0m \u001b[0mi\u001b[0m \u001b[0;32min\u001b[0m \u001b[0mrange\u001b[0m\u001b[0;34m(\u001b[0m\u001b[0;36m0\u001b[0m\u001b[0;34m,\u001b[0m \u001b[0mlen\u001b[0m\u001b[0;34m(\u001b[0m\u001b[0mmats10por10\u001b[0m\u001b[0;34m)\u001b[0m\u001b[0;34m)\u001b[0m\u001b[0;34m:\u001b[0m\u001b[0;34m\u001b[0m\u001b[0;34m\u001b[0m\u001b[0m\n\u001b[0m\u001b[1;32m     11\u001b[0m     \u001b[0ms\u001b[0m \u001b[0;34m=\u001b[0m \u001b[0mtime\u001b[0m\u001b[0;34m.\u001b[0m\u001b[0mtime\u001b[0m\u001b[0;34m(\u001b[0m\u001b[0;34m)\u001b[0m\u001b[0;34m\u001b[0m\u001b[0;34m\u001b[0m\u001b[0m\n\u001b[1;32m     12\u001b[0m     \u001b[0mx\u001b[0m\u001b[0;34m,\u001b[0m \u001b[0miter\u001b[0m \u001b[0;34m=\u001b[0m \u001b[0mmetodo_gradienteCuadraticas\u001b[0m\u001b[0;34m(\u001b[0m\u001b[0mmats10por10\u001b[0m\u001b[0;34m[\u001b[0m\u001b[0;34m\"mat\"\u001b[0m\u001b[0;34m]\u001b[0m\u001b[0;34m[\u001b[0m\u001b[0mi\u001b[0m\u001b[0;34m+\u001b[0m\u001b[0;36m400\u001b[0m\u001b[0;34m]\u001b[0m\u001b[0;34m,\u001b[0m\u001b[0mzero\u001b[0m\u001b[0;34m,\u001b[0m \u001b[0;36m1\u001b[0m\u001b[0;34m*\u001b[0m\u001b[0munos\u001b[0m\u001b[0;34m,\u001b[0m \u001b[0mmaxIters\u001b[0m\u001b[0;34m,\u001b[0m \u001b[0mtamaniosPaso\u001b[0m\u001b[0;34m[\u001b[0m\u001b[0mj\u001b[0m\u001b[0;34m]\u001b[0m\u001b[0;34m)\u001b[0m\u001b[0;34m\u001b[0m\u001b[0;34m\u001b[0m\u001b[0m\n",
            "\u001b[0;31mNameError\u001b[0m: name 'mats10por10' is not defined"
          ]
        }
      ],
      "source": [
        "maxIters = 180000\n",
        "zero = np.zeros(10)\n",
        "unos = np.ones(10)\n",
        "tamaniosPaso = [1/4, 1/2, 3/4, 0.99, 0.999, 1, 0] #0 es la version numero aleatorio entre 0 y 1\n",
        "resultadosIter = []\n",
        "tiempos =  []\n",
        "pasos = []\n",
        "rangoAutovals = []\n",
        "for j in range(0, len(tamaniosPaso)):\n",
        "  for i in range(0, len(mats10por10)):\n",
        "    s = time.time()\n",
        "    x, iter = metodo_gradienteCuadraticas(mats10por10[\"mat\"][i+400],zero, 1*unos, maxIters, tamaniosPaso[j])\n",
        "    pasos.append(tamaniosPaso[j])\n",
        "    resultadosIter.append(iter)\n",
        "    tiempos.append(time.time()-s)\n",
        "    rangoAutovals.append(mats10por10[\"rangoAutovalores\"][i+400])"
      ]
    },
    {
      "cell_type": "code",
      "execution_count": 133,
      "id": "CFSORDR3tYwj",
      "metadata": {
        "id": "CFSORDR3tYwj"
      },
      "outputs": [],
      "source": [
        "res = {'rangoAutovalores': rangoAutovals, 'pasos': pasos,'iters': resultadosIter, \"tiempo\":tiempos}\n",
        "#dfResEj1 = pd.DataFrame(data=res)"
      ]
    },
    {
      "cell_type": "markdown",
      "id": "3b1b72a6",
      "metadata": {
        "id": "3b1b72a6"
      },
      "source": [
        "DE ACA EN ADELANTE SI"
      ]
    },
    {
      "cell_type": "code",
      "execution_count": 134,
      "id": "6842be38",
      "metadata": {
        "id": "6842be38"
      },
      "outputs": [],
      "source": [
        "tamaniosPaso = [1/4, 1/2, 3/4, 0.99, 0.999, 1, 0] #0 es la version numero aleatorio entre 0 y 1\n"
      ]
    },
    {
      "cell_type": "code",
      "execution_count": 135,
      "id": "y7cIHMKs2p-7",
      "metadata": {
        "colab": {
          "base_uri": "https://localhost:8080/",
          "height": 312
        },
        "id": "y7cIHMKs2p-7",
        "outputId": "33ec057c-579d-48c7-bd67-5dc7753340cf"
      },
      "outputs": [
        {
          "output_type": "execute_result",
          "data": {
            "text/plain": [
              "Text(0, 0.5, 'Tiempo en segundos')"
            ]
          },
          "metadata": {},
          "execution_count": 135
        },
        {
          "output_type": "display_data",
          "data": {
            "text/plain": [
              "<Figure size 432x288 with 1 Axes>"
            ],
            "image/png": "[encoded data removed]"
          },
          "metadata": {
            "needs_background": "light"
          }
        }
      ],
      "source": [
        "plt.scatter(dfResEj1['iters'], dfResEj1['tiempo'], c=dfResEj1['pasos'], label=dfResEj1['pasos'])\n",
        "\n",
        "plt.title(\"Tiempo en funcion de iteraciones\")\n",
        "plt.xlabel(\"Iteraciones\")\n",
        "plt.ylabel(\"Tiempo en segundos\")"
      ]
    },
    {
      "cell_type": "code",
      "execution_count": 136,
      "id": "MAHSJ6gmvdF-",
      "metadata": {
        "colab": {
          "base_uri": "https://localhost:8080/",
          "height": 316
        },
        "id": "MAHSJ6gmvdF-",
        "outputId": "db617c3a-0aa3-4020-80ed-b4d5b65956f9"
      },
      "outputs": [
        {
          "output_type": "stream",
          "name": "stderr",
          "text": [
            "WARNING:matplotlib.legend:No handles with labels found to put in legend.\n"
          ]
        },
        {
          "output_type": "display_data",
          "data": {
            "text/plain": [
              "<Figure size 432x288 with 1 Axes>"
            ],
            "image/png": "[encoded data removed]"
          },
          "metadata": {
            "needs_background": "light"
          }
        }
      ],
      "source": [
        "plt.scatter(dfResEj1['rangoAutovalores'], dfResEj1['iters'], c=dfResEj1['pasos'])#label=pd.unique(dfResEj1['pasos']))\n",
        "plt.title(\"Iteraciones en funcion de rango de autovalores\")\n",
        "plt.xlabel(\"Rango autovalores (max-min) escala log\")\n",
        "plt.ylabel(\"Iteraciones\")\n",
        "plt.xscale(\"log\")\n",
        "plt.legend()\n",
        "plt.show()"
      ]
    },
    {
      "cell_type": "code",
      "execution_count": 137,
      "id": "BEEyM8-k2izb",
      "metadata": {
        "colab": {
          "base_uri": "https://localhost:8080/",
          "height": 282
        },
        "id": "BEEyM8-k2izb",
        "outputId": "f0af781c-5329-4683-994d-0b7e1c498a96"
      },
      "outputs": [
        {
          "output_type": "execute_result",
          "data": {
            "text/plain": [
              "<matplotlib.collections.PathCollection at 0x7f7b2af2fe90>"
            ]
          },
          "metadata": {},
          "execution_count": 137
        },
        {
          "output_type": "display_data",
          "data": {
            "text/plain": [
              "<Figure size 432x288 with 1 Axes>"
            ],
            "image/png": "[encoded data removed]"
          },
          "metadata": {
            "needs_background": "light"
          }
        }
      ],
      "source": [
        "paso1 = dfResEj1[dfResEj1[\"pasos\"]==0.75]\n",
        "plt.scatter(paso1['rangoAutovalores'], paso1['tiempo'], c=paso1['pasos'])\n",
        "#plt.xscale(\"log\")"
      ]
    },
    {
      "cell_type": "code",
      "execution_count": 138,
      "id": "s1IxDDNeuxEK",
      "metadata": {
        "colab": {
          "base_uri": "https://localhost:8080/",
          "height": 366
        },
        "id": "s1IxDDNeuxEK",
        "outputId": "20325d50-de27-4d5f-8051-87210265f399"
      },
      "outputs": [
        {
          "output_type": "stream",
          "name": "stderr",
          "text": [
            "/usr/local/lib/python3.7/dist-packages/seaborn/distributions.py:1699: FutureWarning:\n",
            "\n",
            "The `bw` parameter is deprecated in favor of `bw_method` and `bw_adjust`. Using 0.1 for `bw_method`, but please see the docs for the new parameters and update your code.\n",
            "\n"
          ]
        },
        {
          "output_type": "execute_result",
          "data": {
            "text/plain": [
              "<matplotlib.axes._subplots.AxesSubplot at 0x7f7b2ade2690>"
            ]
          },
          "metadata": {},
          "execution_count": 138
        },
        {
          "output_type": "display_data",
          "data": {
            "text/plain": [
              "<Figure size 432x288 with 1 Axes>"
            ],
            "image/png": "[encoded data removed]"
          },
          "metadata": {
            "needs_background": "light"
          }
        }
      ],
      "source": [
        "sns.kdeplot(data=dfResEj1, x='iters', hue='pasos', common_norm= False, bw=0.1)"
      ]
    },
    {
      "cell_type": "code",
      "execution_count": 139,
      "id": "11981fce",
      "metadata": {
        "id": "11981fce",
        "outputId": "98379c17-36e1-4f51-afab-d1556c57970c",
        "colab": {
          "base_uri": "https://localhost:8080/",
          "height": 1000
        }
      },
      "outputs": [
        {
          "output_type": "display_data",
          "data": {
            "text/plain": [
              "<Figure size 1440x1440 with 9 Axes>"
            ],
            "image/png": "[encoded data removed]"
          },
          "metadata": {
            "needs_background": "light"
          }
        }
      ],
      "source": [
        "figure, axis = plt.subplots(3,3, figsize=(20,20))\n",
        "s = 0\n",
        "for i in range(0,3):\n",
        "    for j in range(0, 3):\n",
        "        if(s<7):\n",
        "            paso1 = dfResEj1[dfResEj1[\"pasos\"]==tamaniosPaso[s]]\n",
        "            axis[i, j].scatter(paso1['rangoAutovalores'], paso1['tiempo'], c=paso1['pasos'])\n",
        "            if(tamaniosPaso[s]!=0):\n",
        "                axis[i, j].set_title(\"Tamaño de paso \" + str(tamaniosPaso[s]))\n",
        "            else:\n",
        "                axis[i, j].set_title(\" Tamaño de paso aleatorio entre 0 y 1\")\n",
        "            axis[i,j].set_ylim([0, 6])        \n",
        "\n",
        "        s = s + 1\n",
        "plt.show()"
      ]
    },
    {
      "cell_type": "code",
      "execution_count": 140,
      "id": "yz_Def93yti8",
      "metadata": {
        "id": "yz_Def93yti8"
      },
      "outputs": [],
      "source": [
        "#from google.colab import files\n",
        "#dfResEj1.to_csv('dfResEj1.csv') \n",
        "#files.download('dfResEj1.csv')"
      ]
    },
    {
      "cell_type": "code",
      "execution_count": 141,
      "id": "6eb1fb06",
      "metadata": {
        "id": "6eb1fb06",
        "outputId": "86a80c47-4da4-4b7c-8178-39fbc0fb30b9",
        "colab": {
          "base_uri": "https://localhost:8080/",
          "height": 424
        }
      },
      "outputs": [
        {
          "output_type": "execute_result",
          "data": {
            "text/plain": [
              "     Unnamed: 0     tamanio  \\\n",
              "0             0      (2, 2)   \n",
              "1             1      (2, 2)   \n",
              "2             2      (2, 2)   \n",
              "3             3      (2, 2)   \n",
              "4             4      (2, 2)   \n",
              "..          ...         ...   \n",
              "895         895  (200, 200)   \n",
              "896         896  (200, 200)   \n",
              "897         897  (200, 200)   \n",
              "898         898  (200, 200)   \n",
              "899         899  (200, 200)   \n",
              "\n",
              "                                           autovalores  autovalorMax  \\\n",
              "0                      [2.13039600e+00 1.53733452e-04]  2.130396e+00   \n",
              "1                              [5.0753714  0.10702353]  5.075371e+00   \n",
              "2                              [8.90007051 1.18815833]  8.900071e+00   \n",
              "3                      [5.48386614e+00 3.73334809e-04]  5.483866e+00   \n",
              "4                            [12.15494409 24.71610474]  2.471610e+01   \n",
              "..                                                 ...           ...   \n",
              "895  [9.21345276e+07 6.00533605e+05 5.70291990e+05 ...  9.213453e+07   \n",
              "896  [9.49249818e+07 6.12618378e+05 5.93736134e+05 ...  9.492498e+07   \n",
              "897  [9.59743697e+07 6.15718613e+05 5.93635176e+05 ...  9.597437e+07   \n",
              "898  [9.81884878e+07 6.19073300e+05 6.06222160e+05 ...  9.818849e+07   \n",
              "899  [9.92740468e+07 6.61023668e+05 6.34519321e+05 ...  9.927405e+07   \n",
              "\n",
              "     autovalorMin  rangoAutovalores  \\\n",
              "0        0.000154      2.130242e+00   \n",
              "1        0.107024      4.968348e+00   \n",
              "2        1.188158      7.711912e+00   \n",
              "3        0.000373      5.483493e+00   \n",
              "4       12.154944      1.256116e+01   \n",
              "..            ...               ...   \n",
              "895     11.661051      9.213452e+07   \n",
              "896      0.081413      9.492498e+07   \n",
              "897      0.182582      9.597437e+07   \n",
              "898      2.015392      9.818849e+07   \n",
              "899      0.000087      9.927405e+07   \n",
              "\n",
              "                                                   mat  \n",
              "0    [[1.4277800159666887, 1.0015353443246913], [1....  \n",
              "1    [[3.1084677041108315, 2.4297225441430976], [2....  \n",
              "2    [[6.319120032244062, 3.6390600481153315], [3.6...  \n",
              "3    [[5.203384950030568, 1.2080343186411266], [1.2...  \n",
              "4    [[16.76994508395115, 6.055702662291634], [6.05...  \n",
              "..                                                 ...  \n",
              "895  [[597581.2955310631, 438044.93462902965, 46668...  \n",
              "896  [[647650.3247842679, 448159.1950441256, 470908...  \n",
              "897  [[632222.2896321212, 464755.69765387033, 52072...  \n",
              "898  [[635386.0147657621, 490770.8197573107, 483793...  \n",
              "899  [[618475.3158973174, 444135.6755136844, 498660...  \n",
              "\n",
              "[900 rows x 7 columns]"
            ],
            "text/html": [
              "\n",
              "  <div id=\"df-6fc810bd-da7f-4961-bf0c-151e6f27edc2\">\n",
              "    <div class=\"colab-df-container\">\n",
              "      <div>\n",
              "<style scoped>\n",
              "    .dataframe tbody tr th:only-of-type {\n",
              "        vertical-align: middle;\n",
              "    }\n",
              "\n",
              "    .dataframe tbody tr th {\n",
              "        vertical-align: top;\n",
              "    }\n",
              "\n",
              "    .dataframe thead th {\n",
              "        text-align: right;\n",
              "    }\n",
              "</style>\n",
              "<table border=\"1\" class=\"dataframe\">\n",
              "  <thead>\n",
              "    <tr style=\"text-align: right;\">\n",
              "      <th></th>\n",
              "      <th>Unnamed: 0</th>\n",
              "      <th>tamanio</th>\n",
              "      <th>autovalores</th>\n",
              "      <th>autovalorMax</th>\n",
              "      <th>autovalorMin</th>\n",
              "      <th>rangoAutovalores</th>\n",
              "      <th>mat</th>\n",
              "    </tr>\n",
              "  </thead>\n",
              "  <tbody>\n",
              "    <tr>\n",
              "      <th>0</th>\n",
              "      <td>0</td>\n",
              "      <td>(2, 2)</td>\n",
              "      <td>[2.13039600e+00 1.53733452e-04]</td>\n",
              "      <td>2.130396e+00</td>\n",
              "      <td>0.000154</td>\n",
              "      <td>2.130242e+00</td>\n",
              "      <td>[[1.4277800159666887, 1.0015353443246913], [1....</td>\n",
              "    </tr>\n",
              "    <tr>\n",
              "      <th>1</th>\n",
              "      <td>1</td>\n",
              "      <td>(2, 2)</td>\n",
              "      <td>[5.0753714  0.10702353]</td>\n",
              "      <td>5.075371e+00</td>\n",
              "      <td>0.107024</td>\n",
              "      <td>4.968348e+00</td>\n",
              "      <td>[[3.1084677041108315, 2.4297225441430976], [2....</td>\n",
              "    </tr>\n",
              "    <tr>\n",
              "      <th>2</th>\n",
              "      <td>2</td>\n",
              "      <td>(2, 2)</td>\n",
              "      <td>[8.90007051 1.18815833]</td>\n",
              "      <td>8.900071e+00</td>\n",
              "      <td>1.188158</td>\n",
              "      <td>7.711912e+00</td>\n",
              "      <td>[[6.319120032244062, 3.6390600481153315], [3.6...</td>\n",
              "    </tr>\n",
              "    <tr>\n",
              "      <th>3</th>\n",
              "      <td>3</td>\n",
              "      <td>(2, 2)</td>\n",
              "      <td>[5.48386614e+00 3.73334809e-04]</td>\n",
              "      <td>5.483866e+00</td>\n",
              "      <td>0.000373</td>\n",
              "      <td>5.483493e+00</td>\n",
              "      <td>[[5.203384950030568, 1.2080343186411266], [1.2...</td>\n",
              "    </tr>\n",
              "    <tr>\n",
              "      <th>4</th>\n",
              "      <td>4</td>\n",
              "      <td>(2, 2)</td>\n",
              "      <td>[12.15494409 24.71610474]</td>\n",
              "      <td>2.471610e+01</td>\n",
              "      <td>12.154944</td>\n",
              "      <td>1.256116e+01</td>\n",
              "      <td>[[16.76994508395115, 6.055702662291634], [6.05...</td>\n",
              "    </tr>\n",
              "    <tr>\n",
              "      <th>...</th>\n",
              "      <td>...</td>\n",
              "      <td>...</td>\n",
              "      <td>...</td>\n",
              "      <td>...</td>\n",
              "      <td>...</td>\n",
              "      <td>...</td>\n",
              "      <td>...</td>\n",
              "    </tr>\n",
              "    <tr>\n",
              "      <th>895</th>\n",
              "      <td>895</td>\n",
              "      <td>(200, 200)</td>\n",
              "      <td>[9.21345276e+07 6.00533605e+05 5.70291990e+05 ...</td>\n",
              "      <td>9.213453e+07</td>\n",
              "      <td>11.661051</td>\n",
              "      <td>9.213452e+07</td>\n",
              "      <td>[[597581.2955310631, 438044.93462902965, 46668...</td>\n",
              "    </tr>\n",
              "    <tr>\n",
              "      <th>896</th>\n",
              "      <td>896</td>\n",
              "      <td>(200, 200)</td>\n",
              "      <td>[9.49249818e+07 6.12618378e+05 5.93736134e+05 ...</td>\n",
              "      <td>9.492498e+07</td>\n",
              "      <td>0.081413</td>\n",
              "      <td>9.492498e+07</td>\n",
              "      <td>[[647650.3247842679, 448159.1950441256, 470908...</td>\n",
              "    </tr>\n",
              "    <tr>\n",
              "      <th>897</th>\n",
              "      <td>897</td>\n",
              "      <td>(200, 200)</td>\n",
              "      <td>[9.59743697e+07 6.15718613e+05 5.93635176e+05 ...</td>\n",
              "      <td>9.597437e+07</td>\n",
              "      <td>0.182582</td>\n",
              "      <td>9.597437e+07</td>\n",
              "      <td>[[632222.2896321212, 464755.69765387033, 52072...</td>\n",
              "    </tr>\n",
              "    <tr>\n",
              "      <th>898</th>\n",
              "      <td>898</td>\n",
              "      <td>(200, 200)</td>\n",
              "      <td>[9.81884878e+07 6.19073300e+05 6.06222160e+05 ...</td>\n",
              "      <td>9.818849e+07</td>\n",
              "      <td>2.015392</td>\n",
              "      <td>9.818849e+07</td>\n",
              "      <td>[[635386.0147657621, 490770.8197573107, 483793...</td>\n",
              "    </tr>\n",
              "    <tr>\n",
              "      <th>899</th>\n",
              "      <td>899</td>\n",
              "      <td>(200, 200)</td>\n",
              "      <td>[9.92740468e+07 6.61023668e+05 6.34519321e+05 ...</td>\n",
              "      <td>9.927405e+07</td>\n",
              "      <td>0.000087</td>\n",
              "      <td>9.927405e+07</td>\n",
              "      <td>[[618475.3158973174, 444135.6755136844, 498660...</td>\n",
              "    </tr>\n",
              "  </tbody>\n",
              "</table>\n",
              "<p>900 rows × 7 columns</p>\n",
              "</div>\n",
              "      <button class=\"colab-df-convert\" onclick=\"convertToInteractive('df-6fc810bd-da7f-4961-bf0c-151e6f27edc2')\"\n",
              "              title=\"Convert this dataframe to an interactive table.\"\n",
              "              style=\"display:none;\">\n",
              "        \n",
              "  <svg xmlns=\"http://www.w3.org/2000/svg\" height=\"24px\"viewBox=\"0 0 24 24\"\n",
              "       width=\"24px\">\n",
              "    <path d=\"M0 0h24v24H0V0z\" fill=\"none\"/>\n",
              "    <path d=\"M18.56 5.44l.94 2.06.94-2.06 2.06-.94-2.06-.94-.94-2.06-.94 2.06-2.06.94zm-11 1L8.5 8.5l.94-2.06 2.06-.94-2.06-.94L8.5 2.5l-.94 2.06-2.06.94zm10 10l.94 2.06.94-2.06 2.06-.94-2.06-.94-.94-2.06-.94 2.06-2.06.94z\"/><path d=\"M17.41 7.96l-1.37-1.37c-.4-.4-.92-.59-1.43-.59-.52 0-1.04.2-1.43.59L10.3 9.45l-7.72 7.72c-.78.78-.78 2.05 0 2.83L4 21.41c.39.39.9.59 1.41.59.51 0 1.02-.2 1.41-.59l7.78-7.78 2.81-2.81c.8-.78.8-2.07 0-2.86zM5.41 20L4 18.59l7.72-7.72 1.47 1.35L5.41 20z\"/>\n",
              "  </svg>\n",
              "      </button>\n",
              "      \n",
              "  <style>\n",
              "    .colab-df-container {\n",
              "      display:flex;\n",
              "      flex-wrap:wrap;\n",
              "      gap: 12px;\n",
              "    }\n",
              "\n",
              "    .colab-df-convert {\n",
              "      background-color: #E8F0FE;\n",
              "      border: none;\n",
              "      border-radius: 50%;\n",
              "      cursor: pointer;\n",
              "      display: none;\n",
              "      fill: #1967D2;\n",
              "      height: 32px;\n",
              "      padding: 0 0 0 0;\n",
              "      width: 32px;\n",
              "    }\n",
              "\n",
              "    .colab-df-convert:hover {\n",
              "      background-color: #E2EBFA;\n",
              "      box-shadow: 0px 1px 2px rgba(60, 64, 67, 0.3), 0px 1px 3px 1px rgba(60, 64, 67, 0.15);\n",
              "      fill: #174EA6;\n",
              "    }\n",
              "\n",
              "    [theme=dark] .colab-df-convert {\n",
              "      background-color: #3B4455;\n",
              "      fill: #D2E3FC;\n",
              "    }\n",
              "\n",
              "    [theme=dark] .colab-df-convert:hover {\n",
              "      background-color: #434B5C;\n",
              "      box-shadow: 0px 1px 3px 1px rgba(0, 0, 0, 0.15);\n",
              "      filter: drop-shadow(0px 1px 2px rgba(0, 0, 0, 0.3));\n",
              "      fill: #FFFFFF;\n",
              "    }\n",
              "  </style>\n",
              "\n",
              "      <script>\n",
              "        const buttonEl =\n",
              "          document.querySelector('#df-6fc810bd-da7f-4961-bf0c-151e6f27edc2 button.colab-df-convert');\n",
              "        buttonEl.style.display =\n",
              "          google.colab.kernel.accessAllowed ? 'block' : 'none';\n",
              "\n",
              "        async function convertToInteractive(key) {\n",
              "          const element = document.querySelector('#df-6fc810bd-da7f-4961-bf0c-151e6f27edc2');\n",
              "          const dataTable =\n",
              "            await google.colab.kernel.invokeFunction('convertToInteractive',\n",
              "                                                     [key], {});\n",
              "          if (!dataTable) return;\n",
              "\n",
              "          const docLinkHtml = 'Like what you see? Visit the ' +\n",
              "            '<a target=\"_blank\" href=https://colab.research.google.com/notebooks/data_table.ipynb>data table notebook</a>'\n",
              "            + ' to learn more about interactive tables.';\n",
              "          element.innerHTML = '';\n",
              "          dataTable['output_type'] = 'display_data';\n",
              "          await google.colab.output.renderOutput(dataTable, element);\n",
              "          const docLink = document.createElement('div');\n",
              "          docLink.innerHTML = docLinkHtml;\n",
              "          element.appendChild(docLink);\n",
              "        }\n",
              "      </script>\n",
              "    </div>\n",
              "  </div>\n",
              "  "
            ]
          },
          "metadata": {},
          "execution_count": 141
        }
      ],
      "source": [
        "df"
      ]
    },
    {
      "cell_type": "code",
      "execution_count": 142,
      "id": "69edf923",
      "metadata": {
        "id": "69edf923"
      },
      "outputs": [],
      "source": [
        "df2por2 = df[df[\"tamanio\"]==\"(2, 2)\"]"
      ]
    },
    {
      "cell_type": "code",
      "execution_count": 143,
      "id": "e24a5356",
      "metadata": {
        "id": "e24a5356",
        "outputId": "b185e1aa-63db-4f80-de18-eb30cb6282f2",
        "colab": {
          "base_uri": "https://localhost:8080/"
        }
      },
      "outputs": [
        {
          "output_type": "execute_result",
          "data": {
            "text/plain": [
              "(array([-3.12392324,  1.34597083]), 10001)"
            ]
          },
          "metadata": {},
          "execution_count": 143
        }
      ],
      "source": [
        "# 1 b\n",
        "metodo_gradienteCuadraticasRotado(df2por2.mat[1],np.zeros(2), 78*np.ones(2), 10000,1, -1/3* 3.1415926)"
      ]
    },
    {
      "cell_type": "code",
      "execution_count": 144,
      "id": "e20bb711",
      "metadata": {
        "id": "e20bb711",
        "outputId": "34f3a20a-add8-4c80-e559-6cf805daa188",
        "colab": {
          "base_uri": "https://localhost:8080/",
          "height": 424
        }
      },
      "outputs": [
        {
          "output_type": "execute_result",
          "data": {
            "text/plain": [
              "    Unnamed: 0 tamanio                      autovalores  autovalorMax  \\\n",
              "0            0  (2, 2)  [2.13039600e+00 1.53733452e-04]      2.130396   \n",
              "1            1  (2, 2)          [5.0753714  0.10702353]      5.075371   \n",
              "2            2  (2, 2)          [8.90007051 1.18815833]      8.900071   \n",
              "3            3  (2, 2)  [5.48386614e+00 3.73334809e-04]      5.483866   \n",
              "4            4  (2, 2)        [12.15494409 24.71610474]     24.716105   \n",
              "..         ...     ...                              ...           ...   \n",
              "95          95  (2, 2)  [3.06881620e+03 5.76129888e-02]   3068.816199   \n",
              "96          96  (2, 2)  [ 1024.35566548 21827.18907902]  21827.189079   \n",
              "97          97  (2, 2)  [12229.83526839   991.28691634]  12229.835268   \n",
              "98          98  (2, 2)    [ 431.5786369  1714.76080462]   1714.760805   \n",
              "99          99  (2, 2)    [ 174.93112443 8737.90568458]   8737.905685   \n",
              "\n",
              "    autovalorMin  rangoAutovalores  \\\n",
              "0       0.000154          2.130242   \n",
              "1       0.107024          4.968348   \n",
              "2       1.188158          7.711912   \n",
              "3       0.000373          5.483493   \n",
              "4      12.154944         12.561161   \n",
              "..           ...               ...   \n",
              "95      0.057613       3068.758586   \n",
              "96   1024.355665      20802.833414   \n",
              "97    991.286916      11238.548352   \n",
              "98    431.578637       1283.182168   \n",
              "99    174.931124       8562.974560   \n",
              "\n",
              "                                                  mat  \n",
              "0   [[1.4277800159666887, 1.0015353443246913], [1....  \n",
              "1   [[3.1084677041108315, 2.4297225441430976], [2....  \n",
              "2   [[6.319120032244062, 3.6390600481153315], [3.6...  \n",
              "3   [[5.203384950030568, 1.2080343186411266], [1.2...  \n",
              "4   [[16.76994508395115, 6.055702662291634], [6.05...  \n",
              "..                                                ...  \n",
              "95  [[2155.140255282995, 1403.2274111435431], [140...  \n",
              "96  [[9152.754968160652, 10150.01780237416], [1015...  \n",
              "97  [[10268.024679869395, 4266.05231700815], [4266...  \n",
              "98  [[466.29553739818283, 208.18944366709425], [20...  \n",
              "99  [[405.3786131130559, 1385.7163988424545], [138...  \n",
              "\n",
              "[100 rows x 7 columns]"
            ],
            "text/html": [
              "\n",
              "  <div id=\"df-a7f2b47e-7b1e-46bb-ad40-6f4a5476cf01\">\n",
              "    <div class=\"colab-df-container\">\n",
              "      <div>\n",
              "<style scoped>\n",
              "    .dataframe tbody tr th:only-of-type {\n",
              "        vertical-align: middle;\n",
              "    }\n",
              "\n",
              "    .dataframe tbody tr th {\n",
              "        vertical-align: top;\n",
              "    }\n",
              "\n",
              "    .dataframe thead th {\n",
              "        text-align: right;\n",
              "    }\n",
              "</style>\n",
              "<table border=\"1\" class=\"dataframe\">\n",
              "  <thead>\n",
              "    <tr style=\"text-align: right;\">\n",
              "      <th></th>\n",
              "      <th>Unnamed: 0</th>\n",
              "      <th>tamanio</th>\n",
              "      <th>autovalores</th>\n",
              "      <th>autovalorMax</th>\n",
              "      <th>autovalorMin</th>\n",
              "      <th>rangoAutovalores</th>\n",
              "      <th>mat</th>\n",
              "    </tr>\n",
              "  </thead>\n",
              "  <tbody>\n",
              "    <tr>\n",
              "      <th>0</th>\n",
              "      <td>0</td>\n",
              "      <td>(2, 2)</td>\n",
              "      <td>[2.13039600e+00 1.53733452e-04]</td>\n",
              "      <td>2.130396</td>\n",
              "      <td>0.000154</td>\n",
              "      <td>2.130242</td>\n",
              "      <td>[[1.4277800159666887, 1.0015353443246913], [1....</td>\n",
              "    </tr>\n",
              "    <tr>\n",
              "      <th>1</th>\n",
              "      <td>1</td>\n",
              "      <td>(2, 2)</td>\n",
              "      <td>[5.0753714  0.10702353]</td>\n",
              "      <td>5.075371</td>\n",
              "      <td>0.107024</td>\n",
              "      <td>4.968348</td>\n",
              "      <td>[[3.1084677041108315, 2.4297225441430976], [2....</td>\n",
              "    </tr>\n",
              "    <tr>\n",
              "      <th>2</th>\n",
              "      <td>2</td>\n",
              "      <td>(2, 2)</td>\n",
              "      <td>[8.90007051 1.18815833]</td>\n",
              "      <td>8.900071</td>\n",
              "      <td>1.188158</td>\n",
              "      <td>7.711912</td>\n",
              "      <td>[[6.319120032244062, 3.6390600481153315], [3.6...</td>\n",
              "    </tr>\n",
              "    <tr>\n",
              "      <th>3</th>\n",
              "      <td>3</td>\n",
              "      <td>(2, 2)</td>\n",
              "      <td>[5.48386614e+00 3.73334809e-04]</td>\n",
              "      <td>5.483866</td>\n",
              "      <td>0.000373</td>\n",
              "      <td>5.483493</td>\n",
              "      <td>[[5.203384950030568, 1.2080343186411266], [1.2...</td>\n",
              "    </tr>\n",
              "    <tr>\n",
              "      <th>4</th>\n",
              "      <td>4</td>\n",
              "      <td>(2, 2)</td>\n",
              "      <td>[12.15494409 24.71610474]</td>\n",
              "      <td>24.716105</td>\n",
              "      <td>12.154944</td>\n",
              "      <td>12.561161</td>\n",
              "      <td>[[16.76994508395115, 6.055702662291634], [6.05...</td>\n",
              "    </tr>\n",
              "    <tr>\n",
              "      <th>...</th>\n",
              "      <td>...</td>\n",
              "      <td>...</td>\n",
              "      <td>...</td>\n",
              "      <td>...</td>\n",
              "      <td>...</td>\n",
              "      <td>...</td>\n",
              "      <td>...</td>\n",
              "    </tr>\n",
              "    <tr>\n",
              "      <th>95</th>\n",
              "      <td>95</td>\n",
              "      <td>(2, 2)</td>\n",
              "      <td>[3.06881620e+03 5.76129888e-02]</td>\n",
              "      <td>3068.816199</td>\n",
              "      <td>0.057613</td>\n",
              "      <td>3068.758586</td>\n",
              "      <td>[[2155.140255282995, 1403.2274111435431], [140...</td>\n",
              "    </tr>\n",
              "    <tr>\n",
              "      <th>96</th>\n",
              "      <td>96</td>\n",
              "      <td>(2, 2)</td>\n",
              "      <td>[ 1024.35566548 21827.18907902]</td>\n",
              "      <td>21827.189079</td>\n",
              "      <td>1024.355665</td>\n",
              "      <td>20802.833414</td>\n",
              "      <td>[[9152.754968160652, 10150.01780237416], [1015...</td>\n",
              "    </tr>\n",
              "    <tr>\n",
              "      <th>97</th>\n",
              "      <td>97</td>\n",
              "      <td>(2, 2)</td>\n",
              "      <td>[12229.83526839   991.28691634]</td>\n",
              "      <td>12229.835268</td>\n",
              "      <td>991.286916</td>\n",
              "      <td>11238.548352</td>\n",
              "      <td>[[10268.024679869395, 4266.05231700815], [4266...</td>\n",
              "    </tr>\n",
              "    <tr>\n",
              "      <th>98</th>\n",
              "      <td>98</td>\n",
              "      <td>(2, 2)</td>\n",
              "      <td>[ 431.5786369  1714.76080462]</td>\n",
              "      <td>1714.760805</td>\n",
              "      <td>431.578637</td>\n",
              "      <td>1283.182168</td>\n",
              "      <td>[[466.29553739818283, 208.18944366709425], [20...</td>\n",
              "    </tr>\n",
              "    <tr>\n",
              "      <th>99</th>\n",
              "      <td>99</td>\n",
              "      <td>(2, 2)</td>\n",
              "      <td>[ 174.93112443 8737.90568458]</td>\n",
              "      <td>8737.905685</td>\n",
              "      <td>174.931124</td>\n",
              "      <td>8562.974560</td>\n",
              "      <td>[[405.3786131130559, 1385.7163988424545], [138...</td>\n",
              "    </tr>\n",
              "  </tbody>\n",
              "</table>\n",
              "<p>100 rows × 7 columns</p>\n",
              "</div>\n",
              "      <button class=\"colab-df-convert\" onclick=\"convertToInteractive('df-a7f2b47e-7b1e-46bb-ad40-6f4a5476cf01')\"\n",
              "              title=\"Convert this dataframe to an interactive table.\"\n",
              "              style=\"display:none;\">\n",
              "        \n",
              "  <svg xmlns=\"http://www.w3.org/2000/svg\" height=\"24px\"viewBox=\"0 0 24 24\"\n",
              "       width=\"24px\">\n",
              "    <path d=\"M0 0h24v24H0V0z\" fill=\"none\"/>\n",
              "    <path d=\"M18.56 5.44l.94 2.06.94-2.06 2.06-.94-2.06-.94-.94-2.06-.94 2.06-2.06.94zm-11 1L8.5 8.5l.94-2.06 2.06-.94-2.06-.94L8.5 2.5l-.94 2.06-2.06.94zm10 10l.94 2.06.94-2.06 2.06-.94-2.06-.94-.94-2.06-.94 2.06-2.06.94z\"/><path d=\"M17.41 7.96l-1.37-1.37c-.4-.4-.92-.59-1.43-.59-.52 0-1.04.2-1.43.59L10.3 9.45l-7.72 7.72c-.78.78-.78 2.05 0 2.83L4 21.41c.39.39.9.59 1.41.59.51 0 1.02-.2 1.41-.59l7.78-7.78 2.81-2.81c.8-.78.8-2.07 0-2.86zM5.41 20L4 18.59l7.72-7.72 1.47 1.35L5.41 20z\"/>\n",
              "  </svg>\n",
              "      </button>\n",
              "      \n",
              "  <style>\n",
              "    .colab-df-container {\n",
              "      display:flex;\n",
              "      flex-wrap:wrap;\n",
              "      gap: 12px;\n",
              "    }\n",
              "\n",
              "    .colab-df-convert {\n",
              "      background-color: #E8F0FE;\n",
              "      border: none;\n",
              "      border-radius: 50%;\n",
              "      cursor: pointer;\n",
              "      display: none;\n",
              "      fill: #1967D2;\n",
              "      height: 32px;\n",
              "      padding: 0 0 0 0;\n",
              "      width: 32px;\n",
              "    }\n",
              "\n",
              "    .colab-df-convert:hover {\n",
              "      background-color: #E2EBFA;\n",
              "      box-shadow: 0px 1px 2px rgba(60, 64, 67, 0.3), 0px 1px 3px 1px rgba(60, 64, 67, 0.15);\n",
              "      fill: #174EA6;\n",
              "    }\n",
              "\n",
              "    [theme=dark] .colab-df-convert {\n",
              "      background-color: #3B4455;\n",
              "      fill: #D2E3FC;\n",
              "    }\n",
              "\n",
              "    [theme=dark] .colab-df-convert:hover {\n",
              "      background-color: #434B5C;\n",
              "      box-shadow: 0px 1px 3px 1px rgba(0, 0, 0, 0.15);\n",
              "      filter: drop-shadow(0px 1px 2px rgba(0, 0, 0, 0.3));\n",
              "      fill: #FFFFFF;\n",
              "    }\n",
              "  </style>\n",
              "\n",
              "      <script>\n",
              "        const buttonEl =\n",
              "          document.querySelector('#df-a7f2b47e-7b1e-46bb-ad40-6f4a5476cf01 button.colab-df-convert');\n",
              "        buttonEl.style.display =\n",
              "          google.colab.kernel.accessAllowed ? 'block' : 'none';\n",
              "\n",
              "        async function convertToInteractive(key) {\n",
              "          const element = document.querySelector('#df-a7f2b47e-7b1e-46bb-ad40-6f4a5476cf01');\n",
              "          const dataTable =\n",
              "            await google.colab.kernel.invokeFunction('convertToInteractive',\n",
              "                                                     [key], {});\n",
              "          if (!dataTable) return;\n",
              "\n",
              "          const docLinkHtml = 'Like what you see? Visit the ' +\n",
              "            '<a target=\"_blank\" href=https://colab.research.google.com/notebooks/data_table.ipynb>data table notebook</a>'\n",
              "            + ' to learn more about interactive tables.';\n",
              "          element.innerHTML = '';\n",
              "          dataTable['output_type'] = 'display_data';\n",
              "          await google.colab.output.renderOutput(dataTable, element);\n",
              "          const docLink = document.createElement('div');\n",
              "          docLink.innerHTML = docLinkHtml;\n",
              "          element.appendChild(docLink);\n",
              "        }\n",
              "      </script>\n",
              "    </div>\n",
              "  </div>\n",
              "  "
            ]
          },
          "metadata": {},
          "execution_count": 144
        }
      ],
      "source": [
        "df2por2"
      ]
    },
    {
      "cell_type": "code",
      "execution_count": 145,
      "id": "c4a7185a",
      "metadata": {
        "id": "c4a7185a"
      },
      "outputs": [],
      "source": [
        "maxIters = 2001\n",
        "zero = np.zeros(2)\n",
        "unos = np.ones(2)\n",
        "tamaniosRot = np.pi * np.array([-1/3, -1/4, -1/6, 0, 1/6, 1/4, 1/3])\n",
        "\n",
        "resultadosIter1b = []\n",
        "tiempos1b =  []\n",
        "rots1b = []\n",
        "rangoAutovals1b = []\n",
        "\n",
        "for j in range(0, len(tamaniosRot)):\n",
        "  for i in range(0, len(df2por2)):\n",
        "    s = time.time()\n",
        "    x, iters = metodo_gradienteCuadraticasRotado(df2por2[\"mat\"][i],zero, 1*unos, maxIters, 0.75, tamaniosRot[j])\n",
        "    rots1b.append(tamaniosRot[j])\n",
        "    resultadosIter1b.append(iters)\n",
        "    tiempos1b.append(time.time()-s)\n",
        "    rangoAutovals1b.append(df2por2[\"rangoAutovalores\"][i])"
      ]
    },
    {
      "cell_type": "code",
      "execution_count": 146,
      "id": "0ed228bd",
      "metadata": {
        "id": "0ed228bd"
      },
      "outputs": [],
      "source": [
        "res1b = {'rangoAutovalores': rangoAutovals1b, 'rotacion': rots1b,'iters': resultadosIter1b, \"tiempo\":tiempos1b}\n",
        "dfResEj1b = pd.DataFrame(data=res1b)"
      ]
    },
    {
      "cell_type": "code",
      "execution_count": 149,
      "id": "f733153d",
      "metadata": {
        "id": "f733153d",
        "outputId": "a0e82c58-f4c4-477c-80e6-62821b0181f1",
        "colab": {
          "base_uri": "https://localhost:8080/",
          "height": 1000
        }
      },
      "outputs": [
        {
          "output_type": "display_data",
          "data": {
            "text/plain": [
              "<Figure size 1440x1440 with 9 Axes>"
            ],
            "image/png": "[encoded data removed]"
          },
          "metadata": {
            "needs_background": "light"
          }
        }
      ],
      "source": [
        "tamaniosRot = np.pi * np.array([-1/3, -1/4, -1/6, 0, 1/6, 1/4, 1/3])\n",
        "figure, axis = plt.subplots(3,3, figsize=(20,20))\n",
        "s = 0\n",
        "for i in range(0,3):\n",
        "    for j in range(0, 3):\n",
        "        if(s<7):\n",
        "            paso1 = dfResEj1b[dfResEj1b[\"rotacion\"]==tamaniosRot[s]]\n",
        "            axis[i,j].set_ylim([0, 2001])        \n",
        "            axis[i, j].scatter(paso1['rangoAutovalores'], paso1['iters'], c=paso1['rotacion'], label=\"Promedio \"+str(np.mean(paso1['iters'])))\n",
        "            axis[i, j].set_xlabel(\"Rango autovalores (max- min)\")\n",
        "            axis[i, j].set_ylabel(\"Iteraciones\")\n",
        "            axis[i, j].legend(loc=\"upper left\")\n",
        "            axis[i, j].set_title(\"Tamaño de rot pi * \" + str(tamaniosRot[s]/np.pi))      \n",
        "        s = s + 1\n",
        "plt.show()"
      ]
    },
    {
      "cell_type": "code",
      "execution_count": 150,
      "id": "a1d38516",
      "metadata": {
        "id": "a1d38516"
      },
      "outputs": [],
      "source": [
        "dfResEj1b.to_csv('dfResEj1b.csv')"
      ]
    },
    {
      "cell_type": "markdown",
      "source": [
        "# Ejercicio 2 (Tomi)"
      ],
      "metadata": {
        "id": "d3726880"
      },
      "id": "d3726880"
    },
    {
      "cell_type": "markdown",
      "source": [
        "1. Para funciones cuadráticas f(x) = $\\frac{1}{2} x^T Ax $ con matrices A ∈ R\n",
        "n×n definidas positivas y diagonales, elaborar una serie de tests para corroborar las siguientes dos propiedades de Gradiente Conjugado: terminación\n",
        "cuadrática y terminación en tantos pasos como autovalores distintos de A."
      ],
      "metadata": {
        "id": "8-G56qIzQ9dg"
      },
      "id": "8-G56qIzQ9dg"
    },
    {
      "cell_type": "markdown",
      "source": [
        "agarro 6 matrices al azar y corroboro que cumplen las propiedades"
      ],
      "metadata": {
        "id": "C24QJtJcXHqG"
      },
      "id": "C24QJtJcXHqG"
    },
    {
      "cell_type": "code",
      "source": [
        "random.seed(11)\n",
        "matrix_test = random.sample(range(0, df.shape[0]), 6)"
      ],
      "metadata": {
        "id": "ctpj0kHtVwAE"
      },
      "id": "ctpj0kHtVwAE",
      "execution_count": 245,
      "outputs": []
    },
    {
      "cell_type": "code",
      "source": [
        "len(set([1,1,1]))"
      ],
      "metadata": {
        "colab": {
          "base_uri": "https://localhost:8080/"
        },
        "id": "HB0t05iDby-A",
        "outputId": "7cc03c09-677f-4c6c-fa36-b214239f6ab5"
      },
      "id": "HB0t05iDby-A",
      "execution_count": 246,
      "outputs": [
        {
          "output_type": "execute_result",
          "data": {
            "text/plain": [
              "1"
            ]
          },
          "metadata": {},
          "execution_count": 246
        }
      ]
    },
    {
      "cell_type": "code",
      "source": [
        "df.shape"
      ],
      "metadata": {
        "colab": {
          "base_uri": "https://localhost:8080/"
        },
        "id": "ppq2jNnaTkd1",
        "outputId": "8cfbf154-8640-4633-d9dc-913edf03f5bb"
      },
      "id": "ppq2jNnaTkd1",
      "execution_count": 247,
      "outputs": [
        {
          "output_type": "execute_result",
          "data": {
            "text/plain": [
              "(900, 7)"
            ]
          },
          "metadata": {},
          "execution_count": 247
        }
      ]
    },
    {
      "cell_type": "code",
      "source": [
        "random()"
      ],
      "metadata": {
        "colab": {
          "base_uri": "https://localhost:8080/",
          "height": 165
        },
        "id": "xr8_PiBDVZGC",
        "outputId": "82152165-0143-4045-a103-11cedb6c0d78"
      },
      "id": "xr8_PiBDVZGC",
      "execution_count": 248,
      "outputs": [
        {
          "output_type": "error",
          "ename": "TypeError",
          "evalue": "ignored",
          "traceback": [
            "\u001b[0;31m---------------------------------------------------------------------------\u001b[0m",
            "\u001b[0;31mTypeError\u001b[0m                                 Traceback (most recent call last)",
            "\u001b[0;32m<ipython-input-248-347a394b3b57>\u001b[0m in \u001b[0;36m<module>\u001b[0;34m\u001b[0m\n\u001b[0;32m----> 1\u001b[0;31m \u001b[0mrandom\u001b[0m\u001b[0;34m(\u001b[0m\u001b[0;34m)\u001b[0m\u001b[0;34m\u001b[0m\u001b[0;34m\u001b[0m\u001b[0m\n\u001b[0m",
            "\u001b[0;31mTypeError\u001b[0m: 'module' object is not callable"
          ]
        }
      ]
    },
    {
      "cell_type": "code",
      "source": [
        "test = df.loc[1]"
      ],
      "metadata": {
        "id": "6_r5C7EeTM1X"
      },
      "id": "6_r5C7EeTM1X",
      "execution_count": 249,
      "outputs": []
    },
    {
      "cell_type": "code",
      "source": [
        "min, cant_pasos, registro = metodo_gradienteConjugadoCuadraticas(test['mat'], 0, [10,10], epsilon=0.001, maxiter=10000)"
      ],
      "metadata": {
        "id": "F0JJ3MfTS2HQ"
      },
      "id": "F0JJ3MfTS2HQ",
      "execution_count": 250,
      "outputs": []
    },
    {
      "cell_type": "code",
      "source": [
        "for i in range(len(matrix_test)):\n",
        "    test = df.loc[matrix_test[i]] #Selecciono la matriz i de mi vector de test\n",
        "    random.seed(11)\n",
        "    x0 = random.sample(range(-100, 100), test['mat'].shape[1])\n",
        "    min, cant_pasos, registro = metodo_gradienteConjugadoCuadraticas(test['mat'], 0, x0, epsilon=0.001, maxiter=10000)\n",
        "\n",
        "    print(\"La matriz \" + str(matrix_test[i]) + \" tiene \" + str(len(set(autovals))) + \" autovalores distintos y el metodo termina en \" + str(cant_pasos) + \" pasos.\" )"
      ],
      "metadata": {
        "colab": {
          "base_uri": "https://localhost:8080/"
        },
        "id": "hLD7B3f9VJ_K",
        "outputId": "19ef1aa2-aeda-42c8-ec5a-88e41b544df7"
      },
      "id": "hLD7B3f9VJ_K",
      "execution_count": 252,
      "outputs": [
        {
          "output_type": "stream",
          "name": "stdout",
          "text": [
            "La matriz 463 tiene 10 autovalores distintos y el metodo termina en 11 pasos.\n",
            "La matriz 886 tiene 10 autovalores distintos y el metodo termina en 548 pasos.\n",
            "La matriz 573 tiene 10 autovalores distintos y el metodo termina en 28 pasos.\n",
            "La matriz 877 tiene 10 autovalores distintos y el metodo termina en 577 pasos.\n",
            "La matriz 799 tiene 10 autovalores distintos y el metodo termina en 229 pasos.\n",
            "La matriz 476 tiene 10 autovalores distintos y el metodo termina en 11 pasos.\n"
          ]
        }
      ]
    },
    {
      "cell_type": "code",
      "source": [
        "    test = df.loc[100] #Selecciono la matriz i de mi vector de test\n",
        "    #random.seed(11)\n",
        "    x0 = random.sample(range(-100, 100), 3)\n",
        "    min, cant_pasos, registro = metodo_gradienteConjugadoCuadraticas(test['mat'], 0,x0, epsilon=0.001, maxiter=10000)\n",
        "\n",
        "    print(min)"
      ],
      "metadata": {
        "colab": {
          "base_uri": "https://localhost:8080/"
        },
        "id": "-VUSTAr5abXk",
        "outputId": "010ffa78-7dc6-4dab-8f23-3d379610ee1d"
      },
      "id": "-VUSTAr5abXk",
      "execution_count": 211,
      "outputs": [
        {
          "output_type": "stream",
          "name": "stdout",
          "text": [
            "[-1.51345603e-12 -5.98632255e-13 -3.01270120e-12]\n"
          ]
        }
      ]
    },
    {
      "cell_type": "code",
      "source": [
        "test['mat'].shape"
      ],
      "metadata": {
        "colab": {
          "base_uri": "https://localhost:8080/"
        },
        "id": "r5E0agZLaeUG",
        "outputId": "6931731a-3f7f-4941-f84b-f2aedb81fb84"
      },
      "id": "r5E0agZLaeUG",
      "execution_count": 197,
      "outputs": [
        {
          "output_type": "execute_result",
          "data": {
            "text/plain": [
              "(20, 20)"
            ]
          },
          "metadata": {},
          "execution_count": 197
        }
      ]
    },
    {
      "cell_type": "code",
      "source": [
        "len(set(np.linalg.eigvals(df.loc[585]['mat'])))"
      ],
      "metadata": {
        "colab": {
          "base_uri": "https://localhost:8080/"
        },
        "id": "_EcvvPrZaoCs",
        "outputId": "2f7d3716-353f-4077-b6ec-6260fec2e3c8"
      },
      "id": "_EcvvPrZaoCs",
      "execution_count": 229,
      "outputs": [
        {
          "output_type": "execute_result",
          "data": {
            "text/plain": [
              "20"
            ]
          },
          "metadata": {},
          "execution_count": 229
        }
      ]
    },
    {
      "cell_type": "code",
      "source": [],
      "metadata": {
        "id": "W4EJxDeWdcHi"
      },
      "id": "W4EJxDeWdcHi",
      "execution_count": null,
      "outputs": []
    }
  ],
  "metadata": {
    "colab": {
      "provenance": [],
      "collapsed_sections": [
        "ceb6e077",
        "639ebb70"
      ]
    },
    "kernelspec": {
      "display_name": "Python 3 (ipykernel)",
      "language": "python",
      "name": "python3"
    },
    "language_info": {
      "codemirror_mode": {
        "name": "ipython",
        "version": 3
      },
      "file_extension": ".py",
      "mimetype": "text/x-python",
      "name": "python",
      "nbconvert_exporter": "python",
      "pygments_lexer": "ipython3",
      "version": "3.9.5"
    }
  },
  "nbformat": 4,
  "nbformat_minor": 5
}