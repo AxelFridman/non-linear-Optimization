{
 "cells": [
  {
   "cell_type": "markdown",
   "id": "4f02fc9a",
   "metadata": {},
   "source": [
    "# TP 1 (Tomas Palazzo, Noe Hsueh, Axel Fridman)"
   ]
  },
  {
   "cell_type": "markdown",
   "id": "be25acf0",
   "metadata": {},
   "source": [
    "### Importacion de librerias"
   ]
  },
  {
   "cell_type": "code",
   "execution_count": 18,
   "id": "23fe73f3",
   "metadata": {},
   "outputs": [],
   "source": [
    "import numpy as np\n",
    "import matplotlib.pyplot as plt\n",
    "import plotly\n",
    "import plotly.express as px\n",
    "import plotly.graph_objs as go\n",
    "from plotly.offline import init_notebook_mode, iplot\n",
    "import pandas as pd\n",
    "import pickle\n"
   ]
  },
  {
   "cell_type": "markdown",
   "id": "fc44c0ea",
   "metadata": {},
   "source": [
    "### Funciones auxiliares"
   ]
  },
  {
   "cell_type": "code",
   "execution_count": 19,
   "id": "71dacfda",
   "metadata": {},
   "outputs": [],
   "source": [
    "def derivadaEn1Punto1coordenada(f,Xs, x, h=0.01):\n",
    "  extra = np.zeros(len(Xs))\n",
    "  extra[x]=1\n",
    "  return((f(Xs+extra*h)-f(Xs-extra*h))/(2*h))"
   ]
  },
  {
   "cell_type": "code",
   "execution_count": 20,
   "id": "2c487ebf",
   "metadata": {},
   "outputs": [],
   "source": [
    "def gradiente(f,Xs, h=0.01):\n",
    "  df = np.zeros(len(Xs))\n",
    "  for i in range(0, len(Xs)):\n",
    "    df[i]= derivadaEn1Punto1coordenada(f,Xs, i, h)\n",
    "  return(df)"
   ]
  },
  {
   "cell_type": "code",
   "execution_count": 21,
   "id": "4c15f4e2",
   "metadata": {},
   "outputs": [],
   "source": [
    "def hessiano(f, xs, h=0.01):\n",
    "    hes = np.zeros((len(xs), len(xs)))\n",
    "    for i in range(0,len(xs)):\n",
    "        for j in range(0, len(xs)):\n",
    "            extra = np.zeros(len(xs))\n",
    "            extra[i] = 1\n",
    "            grad1 = derivadaEn1Punto1coordenada(f, xs+extra*h, j)\n",
    "            \n",
    "\n",
    "            grad2 = derivadaEn1Punto1coordenada(f, xs-extra*h, j)\n",
    "\n",
    "            hes[i,j] = ((grad1-grad2)/(2*h))\n",
    "           \n",
    "    return (hes)"
   ]
  },
  {
   "cell_type": "code",
   "execution_count": 22,
   "id": "776617ed",
   "metadata": {},
   "outputs": [],
   "source": [
    "def seccionAurea(f, x, d, epsilon, p ):\n",
    "    theta1 = (3- math.sqrt(5))/2\n",
    "    theta2 = 1 - theta1\n",
    "    a = 0\n",
    "    s = p\n",
    "    b = 2*p\n",
    "    phiB = f(x+ b*d)\n",
    "    phiS = f(x+ s*d)\n",
    "    while(phiB<phiS):\n",
    "        a = s\n",
    "        s = b\n",
    "        b = 2*b\n",
    "        phiS = phiB\n",
    "        phiB = f(x + b * d)\n",
    "    u = a + theta1 * (b-a)\n",
    "    v = a + theta2 * (b-a)\n",
    "    phiU = f(x + u*d)\n",
    "    phiV = f(x + v*d)\n",
    "    while((b-a)>epsilon):\n",
    "        if(phiU<phiV):\n",
    "            b = v\n",
    "            v = u\n",
    "            u = a + theta1*(b-a)\n",
    "            phiV = phiU\n",
    "            phiU = f(x + u * d)\n",
    "        else:\n",
    "            a = u\n",
    "            u = v\n",
    "            v = a + theta2*(b-a)\n",
    "            phiU = phiV\n",
    "            phiV = f(x + v * d)\n",
    "    return((u+v)/2)\n",
    "            "
   ]
  },
  {
   "cell_type": "markdown",
   "id": "1a7d7a5f",
   "metadata": {},
   "source": [
    "### Funciones gradiente (normal, no conjugado)"
   ]
  },
  {
   "cell_type": "code",
   "execution_count": 23,
   "id": "cc17fc38",
   "metadata": {},
   "outputs": [],
   "source": [
    "def metodo_gradienteCuadraticas(A, b, x_0, max_iter, l=None):\n",
    "  k = 0\n",
    "  x = x_0\n",
    "  d = -A @ x_0 - b\n",
    "  while((k <= max_iter) and (np.linalg.norm(d) > 10e-8)):\n",
    "    if l == None:\n",
    "     l = np.random.rand()\n",
    "    t = l*((d.T @ d)/(d.T @ A @ d))\n",
    "    x += t*d\n",
    "    d = -A@x - b\n",
    "    k += 1  \n",
    "  return x, k \n"
   ]
  },
  {
   "cell_type": "code",
   "execution_count": 24,
   "id": "09ee1c5e",
   "metadata": {},
   "outputs": [],
   "source": [
    "def metodo_gradienteGenerico(f, x0, epsilon=0.001, maxiter=10000, n=0.4, beta=5): \n",
    "  precision = epsilon\n",
    "  iter = 0\n",
    "  x = x0\n",
    "  xs = [x]\n",
    "  \n",
    "  grad = gradiente(f, x, epsilon)\n",
    "  ds = [-1*grad]\n",
    "  while(np.linalg.norm(grad)>precision and iter<maxiter):\n",
    "      d = -1*grad\n",
    "      t = busquedaArmijo(f, x, d, n, beta )\n",
    "      x = x+t*d\n",
    "      grad = gradiente(f, x, epsilon)\n",
    "      iter = iter + 1\n",
    "      xs.append(x)\n",
    "      ds.append(-1*grad)\n",
    "  if(iter==maxiter):\n",
    "    print(\"ALCANZO MAX ITERACION!\")\n",
    "  return xs, ds , iter"
   ]
  },
  {
   "cell_type": "markdown",
   "id": "3a0a29be",
   "metadata": {},
   "source": [
    "### Metodos de gradiente conjugado"
   ]
  },
  {
   "cell_type": "code",
   "execution_count": 25,
   "id": "86f3dce3",
   "metadata": {},
   "outputs": [],
   "source": [
    "def metodo_gradienteConjugadoCuadraticas(A, b, x0, epsilon=0.001, maxiter=10000): \n",
    "  precision = epsilon\n",
    "  iter = 0\n",
    "  x = x0\n",
    "  xs = [x]\n",
    "  d = -(A@x0+b)\n",
    "  ds = [d]\n",
    "  while(np.linalg.norm(A@x+b)>precision and iter<maxiter):\n",
    "      t = -((A@x+b).T@d) / (d.T@A@d)\n",
    "      x = x+t*d\n",
    "      bk = (d.T@A@(A@x+b)) / (d.T@A@d)\n",
    "      d = -(A@x+b) + bk*d\n",
    "      \n",
    "      iter = iter + 1\n",
    "      xs.append(x)\n",
    "      ds.append(d)\n",
    "  if(iter==maxiter):\n",
    "    print(\"ALCANZO MAX ITERACION!\")\n",
    "  return xs[len(xs)-1] , iter, xs"
   ]
  },
  {
   "cell_type": "code",
   "execution_count": 26,
   "id": "45139011",
   "metadata": {},
   "outputs": [],
   "source": [
    "def metodo_gradienteConjugadoGenerico(f, x0, epsilon=0.01, maxiter=10000): \n",
    "  precision = epsilon\n",
    "  iter = 0\n",
    "  x = x0\n",
    "  xs = [x]\n",
    "  grad = gradiente(f, x, 10**-5)\n",
    "  d = -1*grad\n",
    "  ds = [-1*grad]\n",
    "  while(np.linalg.norm(grad)>precision and iter<maxiter):\n",
    "      \n",
    "      t = seccionAurea(f, x, d, 10**-5, 1)\n",
    "      x = x+t*d\n",
    "      if((iter+1) % len(x0) != 0):\n",
    "        xant = xs[-1]\n",
    "        bk = (gradiente(f,x).T @ gradiente(f,x)) / (gradiente(f,xant).T @ gradiente(f,xant))\n",
    "      else:\n",
    "        bk = 0\n",
    "      d = -1* gradiente(f, x) + bk * d\n",
    "      grad = gradiente(f, x, epsilon)\n",
    "      iter = iter + 1\n",
    "      xs.append(x)\n",
    "      ds.append(d)\n",
    "  if(iter==maxiter):\n",
    "    print(\"ALCANZO MAX ITERACION!\")\n",
    "  return xs[-1] , iter, xs"
   ]
  },
  {
   "cell_type": "markdown",
   "id": "ceb6e077",
   "metadata": {},
   "source": [
    "### Metodos de newton"
   ]
  },
  {
   "cell_type": "code",
   "execution_count": 27,
   "id": "274cd8a2",
   "metadata": {},
   "outputs": [],
   "source": [
    "def newtonParaCuadraticas(A, b, x0, eps, maxIter):\n",
    "    iter = 0\n",
    "    x = x0\n",
    "    dk = A@x0+b\n",
    "    xs = [x]\n",
    "    while(np.linalg.norm(dk)>eps and iter<maxIter):\n",
    "        dk = np.linalg.solve(A, -(A@x+b))\n",
    "        x = x + dk\n",
    "        iter = iter + 1\n",
    "        xs.append(x)\n",
    "    return(x, iter, xs)"
   ]
  },
  {
   "cell_type": "code",
   "execution_count": 28,
   "id": "5ea58e59",
   "metadata": {},
   "outputs": [],
   "source": [
    "def newtonConModificacionLevenbergMarquardt(f, x0, gamma, eps = 0.01, maxIter=1000):\n",
    "  iter = 0\n",
    "  x = x0\n",
    "  xs = [x]\n",
    "  grad = gradiente(f, x, 10**-5)\n",
    "  while(np.linalg.norm(grad)>eps and iter<maxIter):\n",
    "    grad = gradiente(f, x, 10**-5)\n",
    "    B = hessiano(f, x, 10**-5)\n",
    "    u = min(np.linalg.eigvals(B))\n",
    "    if(u<=0):\n",
    "      B = B + (-u + gamma)*np.identity(len(B))\n",
    "    dk = np.linalg.solve(B, -grad)\n",
    "    tk = seccionAurea(f, x, dk, 10**-5, 1)\n",
    "    x = x + dk*tk\n",
    "    xs.append(x)\n",
    "    iter = iter + 1\n",
    "  return(x, iter, xs)"
   ]
  },
  {
   "cell_type": "markdown",
   "id": "639ebb70",
   "metadata": {},
   "source": [
    "### Metodos de cuasi newton"
   ]
  },
  {
   "cell_type": "code",
   "execution_count": 29,
   "id": "bb78def4",
   "metadata": {},
   "outputs": [],
   "source": [
    "def cuasiNewtonParaCuadraticas(A, b, x0, h0, eps, maxIter):\n",
    "    itera = 0\n",
    "    xViejo = x0\n",
    "    hk = h0\n",
    "    dkViejo = A@xViejo+b\n",
    "    xs = [xViejo]\n",
    "    while(np.linalg.norm(dkViejo)>eps and itera<maxIter):\n",
    "        dkNuevo = A@xViejo+b\n",
    "        dkNuevo = -hk@dkNuevo \n",
    "        tk =  (dkNuevo @ dkNuevo.T)/(dkNuevo.T@A@dkNuevo)\n",
    "        xNuevo = xViejo + dkNuevo * tk\n",
    "        sk = (xNuevo - xViejo)\n",
    "        yk = A@sk\n",
    "        hk = metodoDFP(hk, sk, yk) #cheqear si broyden es lo mejor\n",
    "                                      \n",
    "        itera = itera + 1\n",
    "        xs.append(xNuevo)\n",
    "        \n",
    "        xViejo = xNuevo\n",
    "        dkViejo = dkNuevo\n",
    "    return(xViejo, itera, xs)"
   ]
  },
  {
   "cell_type": "code",
   "execution_count": 30,
   "id": "6c342906",
   "metadata": {},
   "outputs": [],
   "source": [
    "def broydenMala(hk, sk, yk):\n",
    "    res = hk + (np.outer((sk-hk@yk),(sk-hk@yk).T)) / (yk.T@(sk-hk@yk))\n",
    "    return res"
   ]
  },
  {
   "cell_type": "code",
   "execution_count": 31,
   "id": "de471c91",
   "metadata": {},
   "outputs": [],
   "source": [
    "def metodoDFP(hk, sk, yk):\n",
    "    res = hk + (np.outer(sk,sk.T))/(yk.T@sk)\n",
    "    res = res -  (hk@np.outer(yk,(yk.T))@hk)/(yk.T@ hk@yk)\n",
    "    return res"
   ]
  },
  {
   "cell_type": "code",
   "execution_count": 32,
   "id": "b7be3fb6",
   "metadata": {},
   "outputs": [],
   "source": [
    "def metodoBFGS(hk, sk, yk):\n",
    "    res = hk + (1+(yk.T@hk@yk)/(sk.T@yk)) * (sk@sk.T)/(sk.T@yk)\n",
    "    res = res - ((sk @ (yk.T) @ hk) + hk@yk@(sk.T))/(sk.T@yk)\n",
    "    return res"
   ]
  },
  {
   "cell_type": "markdown",
   "id": "476bb43b",
   "metadata": {},
   "source": [
    "## Cargar los archivos con las matrices generadas por nosotros previamente"
   ]
  },
  {
   "cell_type": "code",
   "execution_count": 93,
   "id": "ca266624",
   "metadata": {},
   "outputs": [],
   "source": [
    "df = pd.read_csv('infos.csv')"
   ]
  },
  {
   "cell_type": "code",
   "execution_count": 94,
   "id": "cf8bddb6",
   "metadata": {},
   "outputs": [
    {
     "data": {
      "text/plain": [
       "array([[1.42778002, 1.00153534],\n",
       "       [1.00153534, 0.70276972]])"
      ]
     },
     "execution_count": 94,
     "metadata": {},
     "output_type": "execute_result"
    }
   ],
   "source": [
    "with open('matrices.pkl', 'rb') as f:\n",
    "    F = pickle.load(f)\n",
    "    "
   ]
  },
  {
   "cell_type": "code",
   "execution_count": 99,
   "id": "a4abee56",
   "metadata": {},
   "outputs": [],
   "source": [
    "df[\"mat\"] = F.values()"
   ]
  },
  {
   "cell_type": "code",
   "execution_count": 100,
   "id": "1f02717a",
   "metadata": {},
   "outputs": [
    {
     "data": {
      "text/html": [
       "<div>\n",
       "<style scoped>\n",
       "    .dataframe tbody tr th:only-of-type {\n",
       "        vertical-align: middle;\n",
       "    }\n",
       "\n",
       "    .dataframe tbody tr th {\n",
       "        vertical-align: top;\n",
       "    }\n",
       "\n",
       "    .dataframe thead th {\n",
       "        text-align: right;\n",
       "    }\n",
       "</style>\n",
       "<table border=\"1\" class=\"dataframe\">\n",
       "  <thead>\n",
       "    <tr style=\"text-align: right;\">\n",
       "      <th></th>\n",
       "      <th>Unnamed: 0</th>\n",
       "      <th>tamanio</th>\n",
       "      <th>autovalores</th>\n",
       "      <th>autovalorMax</th>\n",
       "      <th>autovalorMin</th>\n",
       "      <th>rangoAutovalores</th>\n",
       "      <th>mat</th>\n",
       "    </tr>\n",
       "  </thead>\n",
       "  <tbody>\n",
       "    <tr>\n",
       "      <th>0</th>\n",
       "      <td>0</td>\n",
       "      <td>(2, 2)</td>\n",
       "      <td>[2.13039600e+00 1.53733452e-04]</td>\n",
       "      <td>2.130396</td>\n",
       "      <td>0.000154</td>\n",
       "      <td>2.130242</td>\n",
       "      <td>[[1.4277800159666887, 1.0015353443246913], [1....</td>\n",
       "    </tr>\n",
       "    <tr>\n",
       "      <th>1</th>\n",
       "      <td>1</td>\n",
       "      <td>(2, 2)</td>\n",
       "      <td>[5.0753714  0.10702353]</td>\n",
       "      <td>5.075371</td>\n",
       "      <td>0.107024</td>\n",
       "      <td>4.968348</td>\n",
       "      <td>[[3.1084677041108315, 2.4297225441430976], [2....</td>\n",
       "    </tr>\n",
       "    <tr>\n",
       "      <th>2</th>\n",
       "      <td>2</td>\n",
       "      <td>(2, 2)</td>\n",
       "      <td>[8.90007051 1.18815833]</td>\n",
       "      <td>8.900071</td>\n",
       "      <td>1.188158</td>\n",
       "      <td>7.711912</td>\n",
       "      <td>[[6.319120032244062, 3.6390600481153315], [3.6...</td>\n",
       "    </tr>\n",
       "    <tr>\n",
       "      <th>3</th>\n",
       "      <td>3</td>\n",
       "      <td>(2, 2)</td>\n",
       "      <td>[5.48386614e+00 3.73334809e-04]</td>\n",
       "      <td>5.483866</td>\n",
       "      <td>0.000373</td>\n",
       "      <td>5.483493</td>\n",
       "      <td>[[5.203384950030568, 1.2080343186411266], [1.2...</td>\n",
       "    </tr>\n",
       "    <tr>\n",
       "      <th>4</th>\n",
       "      <td>4</td>\n",
       "      <td>(2, 2)</td>\n",
       "      <td>[12.15494409 24.71610474]</td>\n",
       "      <td>24.716105</td>\n",
       "      <td>12.154944</td>\n",
       "      <td>12.561161</td>\n",
       "      <td>[[16.76994508395115, 6.055702662291634], [6.05...</td>\n",
       "    </tr>\n",
       "  </tbody>\n",
       "</table>\n",
       "</div>"
      ],
      "text/plain": [
       "   Unnamed: 0 tamanio                      autovalores  autovalorMax  \\\n",
       "0           0  (2, 2)  [2.13039600e+00 1.53733452e-04]      2.130396   \n",
       "1           1  (2, 2)          [5.0753714  0.10702353]      5.075371   \n",
       "2           2  (2, 2)          [8.90007051 1.18815833]      8.900071   \n",
       "3           3  (2, 2)  [5.48386614e+00 3.73334809e-04]      5.483866   \n",
       "4           4  (2, 2)        [12.15494409 24.71610474]     24.716105   \n",
       "\n",
       "   autovalorMin  rangoAutovalores  \\\n",
       "0      0.000154          2.130242   \n",
       "1      0.107024          4.968348   \n",
       "2      1.188158          7.711912   \n",
       "3      0.000373          5.483493   \n",
       "4     12.154944         12.561161   \n",
       "\n",
       "                                                 mat  \n",
       "0  [[1.4277800159666887, 1.0015353443246913], [1....  \n",
       "1  [[3.1084677041108315, 2.4297225441430976], [2....  \n",
       "2  [[6.319120032244062, 3.6390600481153315], [3.6...  \n",
       "3  [[5.203384950030568, 1.2080343186411266], [1.2...  \n",
       "4  [[16.76994508395115, 6.055702662291634], [6.05...  "
      ]
     },
     "execution_count": 100,
     "metadata": {},
     "output_type": "execute_result"
    }
   ],
   "source": [
    "df.head()"
   ]
  },
  {
   "cell_type": "code",
   "execution_count": null,
   "id": "864ffdcd",
   "metadata": {},
   "outputs": [],
   "source": []
  }
 ],
 "metadata": {
  "kernelspec": {
   "display_name": "Python 3 (ipykernel)",
   "language": "python",
   "name": "python3"
  },
  "language_info": {
   "codemirror_mode": {
    "name": "ipython",
    "version": 3
   },
   "file_extension": ".py",
   "mimetype": "text/x-python",
   "name": "python",
   "nbconvert_exporter": "python",
   "pygments_lexer": "ipython3",
   "version": "3.9.13"
  }
 },
 "nbformat": 4,
 "nbformat_minor": 5
}
