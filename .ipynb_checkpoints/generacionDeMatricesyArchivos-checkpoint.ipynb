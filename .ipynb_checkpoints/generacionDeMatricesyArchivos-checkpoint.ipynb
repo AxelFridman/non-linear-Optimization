{
 "cells": [
  {
   "cell_type": "code",
   "execution_count": 1,
   "id": "a3a08c18",
   "metadata": {},
   "outputs": [],
   "source": [
    "import numpy as np\n",
    "import pandas as pd\n"
   ]
  },
  {
   "cell_type": "code",
   "execution_count": 2,
   "id": "f5d192e3",
   "metadata": {},
   "outputs": [],
   "source": [
    "tamaniosMatrices = [2,3,4,5,10,20,50,100,200]"
   ]
  },
  {
   "cell_type": "code",
   "execution_count": 21,
   "id": "0a5c276f",
   "metadata": {},
   "outputs": [],
   "source": [
    "mats = {}\n",
    "autovals = []\n",
    "autovalorMax = []\n",
    "autovalorMin = []\n",
    "rangoAutovalor = []\n",
    "tamanios = []\n",
    "ids = 0\n",
    "for i in range(0, len(tamaniosMatrices)):\n",
    "    for j in range(1, 101):\n",
    "        A = j * np.random.rand(tamaniosMatrices[i], tamaniosMatrices[i]) # Me generan matrices aleaorias de \n",
    "        B = np.dot(A, A.T)\n",
    "        autoval = np.linalg.eigvals(B)\n",
    "        autovals.append(autoval)\n",
    "        autovalorMin.append(min(autoval))\n",
    "        autovalorMax.append(max(autoval))\n",
    "        rangoAutovalor.append(max(autoval) - min(autoval))\n",
    "        mats[ids] = B\n",
    "        tamanios.append(np.shape(B))\n",
    "        ids = ids + 1"
   ]
  },
  {
   "cell_type": "code",
   "execution_count": 22,
   "id": "6e9cf787",
   "metadata": {},
   "outputs": [],
   "source": [
    "d = {'tamanio': tamanios,'autovalores': autovals,'autovalorMax': autovalorMax, 'autovalorMin': autovalorMin, 'rangoAutovalores': rangoAutovalor }\n",
    "df = pd.DataFrame(data=d)"
   ]
  },
  {
   "cell_type": "code",
   "execution_count": 23,
   "id": "cbc97099",
   "metadata": {},
   "outputs": [],
   "source": [
    "import pickle\n",
    "\n",
    "with open('matrices.pkl', 'wb') as f:\n",
    "    pickle.dump(mats, f)"
   ]
  },
  {
   "cell_type": "code",
   "execution_count": 24,
   "id": "86fb5956",
   "metadata": {},
   "outputs": [],
   "source": [
    "df.to_csv('infos.csv')"
   ]
  },
  {
   "cell_type": "code",
   "execution_count": null,
   "id": "adb98ed5",
   "metadata": {},
   "outputs": [],
   "source": []
  }
 ],
 "metadata": {
  "kernelspec": {
   "display_name": "Python 3 (ipykernel)",
   "language": "python",
   "name": "python3"
  },
  "language_info": {
   "codemirror_mode": {
    "name": "ipython",
    "version": 3
   },
   "file_extension": ".py",
   "mimetype": "text/x-python",
   "name": "python",
   "nbconvert_exporter": "python",
   "pygments_lexer": "ipython3",
   "version": "3.9.13"
  }
 },
 "nbformat": 4,
 "nbformat_minor": 5
}
