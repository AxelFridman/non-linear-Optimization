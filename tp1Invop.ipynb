{
 "cells": [
  {
   "cell_type": "markdown",
   "id": "4f02fc9a",
   "metadata": {
    "id": "4f02fc9a"
   },
   "source": [
    "# TP 1 (Tomas Palazzo, Noe Hsueh, Axel Fridman)"
   ]
  },
  {
   "cell_type": "markdown",
   "id": "be25acf0",
   "metadata": {
    "id": "be25acf0"
   },
   "source": [
    "### Importacion de librerias"
   ]
  },
  {
   "cell_type": "code",
   "execution_count": 45,
   "id": "23fe73f3",
   "metadata": {
    "executionInfo": {
     "elapsed": 1486,
     "status": "ok",
     "timestamp": 1668875923254,
     "user": {
      "displayName": "Axel Fridman",
      "userId": "03658756656230928317"
     },
     "user_tz": 180
    },
    "id": "23fe73f3"
   },
   "outputs": [],
   "source": [
    "import numpy as np\n",
    "import matplotlib.pyplot as plt\n",
    "from matplotlib.colors import LightSource\n",
    "\n",
    "import plotly\n",
    "import plotly.express as px\n",
    "import plotly.graph_objs as go\n",
    "from plotly.offline import init_notebook_mode, iplot\n",
    "import pandas as pd\n",
    "import pickle\n",
    "import time\n",
    "import math\n",
    "import seaborn as sns\n",
    "from mpl_toolkits.mplot3d import Axes3D"
   ]
  },
  {
   "cell_type": "code",
   "execution_count": 3,
   "id": "NB8AgIZQel_i",
   "metadata": {
    "executionInfo": {
     "elapsed": 7,
     "status": "ok",
     "timestamp": 1668871376017,
     "user": {
      "displayName": "Axel Fridman",
      "userId": "03658756656230928317"
     },
     "user_tz": 180
    },
    "id": "NB8AgIZQel_i"
   },
   "outputs": [],
   "source": [
    "import sys\n",
    "#from google.colab import drive"
   ]
  },
  {
   "cell_type": "code",
   "execution_count": 4,
   "id": "-Td4d3eOexmB",
   "metadata": {
    "colab": {
     "base_uri": "https://localhost:8080/"
    },
    "executionInfo": {
     "elapsed": 2920,
     "status": "ok",
     "timestamp": 1668871378931,
     "user": {
      "displayName": "Axel Fridman",
      "userId": "03658756656230928317"
     },
     "user_tz": 180
    },
    "id": "-Td4d3eOexmB",
    "outputId": "e3205085-9532-45bc-aaeb-be569e14bf41"
   },
   "outputs": [],
   "source": [
    "#drive.mount('/content/gdrive')"
   ]
  },
  {
   "cell_type": "markdown",
   "id": "fc44c0ea",
   "metadata": {
    "id": "fc44c0ea"
   },
   "source": [
    "### Funciones auxiliares"
   ]
  },
  {
   "cell_type": "code",
   "execution_count": 5,
   "id": "71dacfda",
   "metadata": {
    "executionInfo": {
     "elapsed": 33,
     "status": "ok",
     "timestamp": 1668871378933,
     "user": {
      "displayName": "Axel Fridman",
      "userId": "03658756656230928317"
     },
     "user_tz": 180
    },
    "id": "71dacfda"
   },
   "outputs": [],
   "source": [
    "def derivadaEn1Punto1coordenada(f,Xs, x, h=0.01):\n",
    "  extra = np.zeros(len(Xs))\n",
    "  extra[x]=1\n",
    "  return((f(Xs+extra*h)-f(Xs-extra*h))/(2*h))"
   ]
  },
  {
   "cell_type": "code",
   "execution_count": 6,
   "id": "2c487ebf",
   "metadata": {
    "executionInfo": {
     "elapsed": 34,
     "status": "ok",
     "timestamp": 1668871378935,
     "user": {
      "displayName": "Axel Fridman",
      "userId": "03658756656230928317"
     },
     "user_tz": 180
    },
    "id": "2c487ebf"
   },
   "outputs": [],
   "source": [
    "def gradiente(f,Xs, h=0.01):\n",
    "  df = np.zeros(len(Xs))\n",
    "  for i in range(0, len(Xs)):\n",
    "    df[i]= derivadaEn1Punto1coordenada(f,Xs, i, h)\n",
    "  return(df)"
   ]
  },
  {
   "cell_type": "code",
   "execution_count": 7,
   "id": "4c15f4e2",
   "metadata": {
    "executionInfo": {
     "elapsed": 35,
     "status": "ok",
     "timestamp": 1668871378937,
     "user": {
      "displayName": "Axel Fridman",
      "userId": "03658756656230928317"
     },
     "user_tz": 180
    },
    "id": "4c15f4e2"
   },
   "outputs": [],
   "source": [
    "def hessiano(f, xs, h=0.01):\n",
    "    hes = np.zeros((len(xs), len(xs)))\n",
    "    for i in range(0,len(xs)):\n",
    "        for j in range(0, len(xs)):\n",
    "            extra = np.zeros(len(xs))\n",
    "            extra[i] = 1\n",
    "            grad1 = derivadaEn1Punto1coordenada(f, xs+extra*h, j)\n",
    "            \n",
    "\n",
    "            grad2 = derivadaEn1Punto1coordenada(f, xs-extra*h, j)\n",
    "\n",
    "            hes[i,j] = ((grad1-grad2)/(2*h))\n",
    "           \n",
    "    return (hes)"
   ]
  },
  {
   "cell_type": "code",
   "execution_count": 8,
   "id": "776617ed",
   "metadata": {
    "executionInfo": {
     "elapsed": 35,
     "status": "ok",
     "timestamp": 1668871378938,
     "user": {
      "displayName": "Axel Fridman",
      "userId": "03658756656230928317"
     },
     "user_tz": 180
    },
    "id": "776617ed"
   },
   "outputs": [],
   "source": [
    "def seccionAurea(f, x, d, epsilon, p ):\n",
    "    theta1 = (3- math.sqrt(5))/2\n",
    "    theta2 = 1 - theta1\n",
    "    a = 0\n",
    "    s = p\n",
    "    b = 2*p\n",
    "    phiB = f(x+ b*d)\n",
    "    phiS = f(x+ s*d)\n",
    "    while(phiB<phiS):\n",
    "        a = s\n",
    "        s = b\n",
    "        b = 2*b\n",
    "        phiS = phiB\n",
    "        phiB = f(x + b * d)\n",
    "    u = a + theta1 * (b-a)\n",
    "    v = a + theta2 * (b-a)\n",
    "    phiU = f(x + u*d)\n",
    "    phiV = f(x + v*d)\n",
    "    while((b-a)>epsilon):\n",
    "        if(phiU<phiV):\n",
    "            b = v\n",
    "            v = u\n",
    "            u = a + theta1*(b-a)\n",
    "            phiV = phiU\n",
    "            phiU = f(x + u * d)\n",
    "        else:\n",
    "            a = u\n",
    "            u = v\n",
    "            v = a + theta2*(b-a)\n",
    "            phiU = phiV\n",
    "            phiV = f(x + v * d)\n",
    "    return((u+v)/2)\n",
    "            "
   ]
  },
  {
   "cell_type": "markdown",
   "id": "1a7d7a5f",
   "metadata": {
    "id": "1a7d7a5f"
   },
   "source": [
    "### Funciones gradiente (normal, no conjugado)"
   ]
  },
  {
   "cell_type": "code",
   "execution_count": 9,
   "id": "cc17fc38",
   "metadata": {
    "executionInfo": {
     "elapsed": 288,
     "status": "ok",
     "timestamp": 1668876368417,
     "user": {
      "displayName": "Axel Fridman",
      "userId": "03658756656230928317"
     },
     "user_tz": 180
    },
    "id": "cc17fc38"
   },
   "outputs": [],
   "source": [
    "def metodo_gradienteCuadraticas(A, b, x_0, max_iter, l=0):\n",
    "  k = 0\n",
    "  x = x_0\n",
    "  d = -A @ x_0 - b\n",
    "  while((k <= max_iter) and (np.linalg.norm(d) > 10e-6)):\n",
    "    if l == 0:\n",
    "     l = np.random.rand()\n",
    "    t = l*((d.T @ d)/(d.T @ A @ d))\n",
    "    x += t*d\n",
    "    d = -A@x - b\n",
    "    k = k +  1\n",
    "  if(k==max_iter):\n",
    "    print(\"ALCANZO MAX ITERACION!\")\n",
    "  return x, k \n"
   ]
  },
  {
   "cell_type": "code",
   "execution_count": 10,
   "id": "afdb59b4",
   "metadata": {},
   "outputs": [],
   "source": [
    "def metodo_gradienteCuadraticasRotado(A, b, x_0, max_iter, l=0, theta=0):\n",
    "  k = 0\n",
    "  x = x_0\n",
    "  rot = np.array([[np.cos(theta), -np.sin(theta)], [np.sin(theta), np.cos(theta)]])\n",
    "  d = -A @ x_0 - b\n",
    "  dk2 = d\n",
    "  while((k <= max_iter) and (np.linalg.norm(d) > 10e-6)):\n",
    "    if l == 0:\n",
    "     l = np.random.rand()\n",
    "    \n",
    "    t = l*((d.T @ d)/(d.T @ A @ d))\n",
    "    t2 = l*((dk2.T @ dk2)/(dk2.T @ A @ dk2))\n",
    "    x += t*d\n",
    "    d = -A@x - b\n",
    "    dk2 = (rot @ d)\n",
    "    xpot = x + dk2*t2\n",
    "    if(dk2@ (-d)<0): #xpot.T@A@xpot < x.T@A@x ):\n",
    "        d = dk2        \n",
    "    k = k +  1\n",
    "  if(k==max_iter):\n",
    "    print(\"ALCANZO MAX ITERACION!\")\n",
    "  return x, k \n"
   ]
  },
  {
   "cell_type": "code",
   "execution_count": 11,
   "id": "09ee1c5e",
   "metadata": {
    "executionInfo": {
     "elapsed": 35,
     "status": "ok",
     "timestamp": 1668871378940,
     "user": {
      "displayName": "Axel Fridman",
      "userId": "03658756656230928317"
     },
     "user_tz": 180
    },
    "id": "09ee1c5e"
   },
   "outputs": [],
   "source": [
    "def metodo_gradienteGenerico(f, x0, epsilon=0.001, maxiter=10000, n=0.4, beta=5): \n",
    "  precision = epsilon\n",
    "  iter = 0\n",
    "  x = x0\n",
    "  xs = [x]\n",
    "  \n",
    "  grad = gradiente(f, x, epsilon)\n",
    "  ds = [-1*grad]\n",
    "  while(np.linalg.norm(grad)>precision and iter<maxiter):\n",
    "      d = -1*grad\n",
    "      t = busquedaArmijo(f, x, d, n, beta )\n",
    "      x = x+t*d\n",
    "      grad = gradiente(f, x, epsilon)\n",
    "      iter = iter + 1\n",
    "      xs.append(x)\n",
    "      ds.append(-1*grad)\n",
    "  if(iter==maxiter):\n",
    "    print(\"ALCANZO MAX ITERACION!\")\n",
    "  return xs, ds , iter"
   ]
  },
  {
   "cell_type": "markdown",
   "id": "3a0a29be",
   "metadata": {
    "id": "3a0a29be"
   },
   "source": [
    "### Metodos de gradiente conjugado"
   ]
  },
  {
   "cell_type": "code",
   "execution_count": 12,
   "id": "86f3dce3",
   "metadata": {
    "executionInfo": {
     "elapsed": 35,
     "status": "ok",
     "timestamp": 1668871378941,
     "user": {
      "displayName": "Axel Fridman",
      "userId": "03658756656230928317"
     },
     "user_tz": 180
    },
    "id": "86f3dce3"
   },
   "outputs": [],
   "source": [
    "def metodo_gradienteConjugadoCuadraticas(A, b, x0, epsilon=0.001, maxiter=10000): \n",
    "  precision = epsilon\n",
    "  iter = 0\n",
    "  x = x0\n",
    "  xs = [x]\n",
    "  d = -(A@x0+b)\n",
    "  ds = [d]\n",
    "  while(np.linalg.norm(A@x+b)>precision and iter<maxiter):\n",
    "      t = -((A@x+b).T@d) / (d.T@A@d)\n",
    "      x = x+t*d\n",
    "      bk = (d.T@A@(A@x+b)) / (d.T@A@d)\n",
    "      d = -(A@x+b) + bk*d\n",
    "      \n",
    "      iter = iter + 1\n",
    "      xs.append(x)\n",
    "      ds.append(d)\n",
    "  if(iter==maxiter):\n",
    "    print(\"ALCANZO MAX ITERACION!\")\n",
    "  return xs[len(xs)-1] , iter, xs"
   ]
  },
  {
   "cell_type": "code",
   "execution_count": 13,
   "id": "45139011",
   "metadata": {
    "executionInfo": {
     "elapsed": 35,
     "status": "ok",
     "timestamp": 1668871378942,
     "user": {
      "displayName": "Axel Fridman",
      "userId": "03658756656230928317"
     },
     "user_tz": 180
    },
    "id": "45139011"
   },
   "outputs": [],
   "source": [
    "def metodo_gradienteConjugadoGenerico(f, x0, epsilon=0.01, maxiter=10000): \n",
    "  precision = epsilon\n",
    "  iter = 0\n",
    "  x = x0\n",
    "  xs = [x]\n",
    "  grad = gradiente(f, x, 10**-5)\n",
    "  d = -1*grad\n",
    "  ds = [-1*grad]\n",
    "  while(np.linalg.norm(grad)>precision and iter<maxiter):\n",
    "      \n",
    "      t = seccionAurea(f, x, d, 10**-5, 1)\n",
    "      x = x+t*d\n",
    "      if((iter+1) % len(x0) != 0):\n",
    "        xant = xs[-1]\n",
    "        bk = (gradiente(f,x).T @ gradiente(f,x)) / (gradiente(f,xant).T @ gradiente(f,xant))\n",
    "      else:\n",
    "        bk = 0\n",
    "      d = -1* gradiente(f, x) + bk * d\n",
    "      grad = gradiente(f, x, epsilon)\n",
    "      iter = iter + 1\n",
    "      xs.append(x)\n",
    "      ds.append(d)\n",
    "  if(iter==maxiter):\n",
    "    print(\"ALCANZO MAX ITERACION!\")\n",
    "  return xs[-1] , iter, xs"
   ]
  },
  {
   "cell_type": "markdown",
   "id": "ceb6e077",
   "metadata": {
    "id": "ceb6e077"
   },
   "source": [
    "### Metodos de newton"
   ]
  },
  {
   "cell_type": "code",
   "execution_count": 14,
   "id": "274cd8a2",
   "metadata": {
    "executionInfo": {
     "elapsed": 35,
     "status": "ok",
     "timestamp": 1668871378943,
     "user": {
      "displayName": "Axel Fridman",
      "userId": "03658756656230928317"
     },
     "user_tz": 180
    },
    "id": "274cd8a2"
   },
   "outputs": [],
   "source": [
    "def newtonParaCuadraticas(A, b, x0, eps, maxIter):\n",
    "    iter = 0\n",
    "    x = x0\n",
    "    dk = A@x0+b\n",
    "    xs = [x]\n",
    "    while(np.linalg.norm(dk)>eps and iter<maxIter):\n",
    "        dk = np.linalg.solve(A, -(A@x+b))\n",
    "        x = x + dk\n",
    "        iter = iter + 1\n",
    "        xs.append(x)\n",
    "    return(x, iter, xs)"
   ]
  },
  {
   "cell_type": "code",
   "execution_count": 15,
   "id": "5ea58e59",
   "metadata": {
    "executionInfo": {
     "elapsed": 36,
     "status": "ok",
     "timestamp": 1668871378944,
     "user": {
      "displayName": "Axel Fridman",
      "userId": "03658756656230928317"
     },
     "user_tz": 180
    },
    "id": "5ea58e59"
   },
   "outputs": [],
   "source": [
    "def newtonConModificacionLevenbergMarquardt(f, x0, gamma, eps = 0.01, maxIter=1000):\n",
    "  iter = 0\n",
    "  x = x0\n",
    "  xs = [x]\n",
    "  grad = gradiente(f, x, 10**-5)\n",
    "  while(np.linalg.norm(grad)>eps and iter<maxIter):\n",
    "    grad = gradiente(f, x, 10**-5)\n",
    "    B = hessiano(f, x, 10**-5)\n",
    "    u = min(np.linalg.eigvals(B))\n",
    "    if(u<=0):\n",
    "      B = B + (-u + gamma)*np.identity(len(B))\n",
    "    dk = np.linalg.solve(B, -grad)\n",
    "    tk = seccionAurea(f, x, dk, 10**-5, 1)\n",
    "    x = x + dk*tk\n",
    "    xs.append(x)\n",
    "    iter = iter + 1\n",
    "  return(x, iter, xs)"
   ]
  },
  {
   "cell_type": "markdown",
   "id": "639ebb70",
   "metadata": {
    "id": "639ebb70"
   },
   "source": [
    "### Metodos de cuasi newton"
   ]
  },
  {
   "cell_type": "code",
   "execution_count": 16,
   "id": "bb78def4",
   "metadata": {
    "executionInfo": {
     "elapsed": 35,
     "status": "ok",
     "timestamp": 1668871378944,
     "user": {
      "displayName": "Axel Fridman",
      "userId": "03658756656230928317"
     },
     "user_tz": 180
    },
    "id": "bb78def4"
   },
   "outputs": [],
   "source": [
    "def cuasiNewtonParaCuadraticas(A, b, x0, h0, eps, maxIter):\n",
    "    itera = 0\n",
    "    xViejo = x0\n",
    "    hk = h0\n",
    "    dkViejo = A@xViejo+b\n",
    "    xs = [xViejo]\n",
    "    while(np.linalg.norm(dkViejo)>eps and itera<maxIter):\n",
    "        dkNuevo = A@xViejo+b\n",
    "        dkNuevo = -hk@dkNuevo \n",
    "        tk =  (dkNuevo @ dkNuevo.T)/(dkNuevo.T@A@dkNuevo)\n",
    "        xNuevo = xViejo + dkNuevo * tk\n",
    "        sk = (xNuevo - xViejo)\n",
    "        yk = A@sk\n",
    "        hk = metodoDFP(hk, sk, yk) #cheqear si broyden es lo mejor\n",
    "                                      \n",
    "        itera = itera + 1\n",
    "        xs.append(xNuevo)\n",
    "        \n",
    "        xViejo = xNuevo\n",
    "        dkViejo = dkNuevo\n",
    "    return(xViejo, itera, xs)"
   ]
  },
  {
   "cell_type": "code",
   "execution_count": 17,
   "id": "6c342906",
   "metadata": {
    "executionInfo": {
     "elapsed": 35,
     "status": "ok",
     "timestamp": 1668871378945,
     "user": {
      "displayName": "Axel Fridman",
      "userId": "03658756656230928317"
     },
     "user_tz": 180
    },
    "id": "6c342906"
   },
   "outputs": [],
   "source": [
    "def broydenMala(hk, sk, yk):\n",
    "    res = hk + (np.outer((sk-hk@yk),(sk-hk@yk).T)) / (yk.T@(sk-hk@yk))\n",
    "    return res"
   ]
  },
  {
   "cell_type": "code",
   "execution_count": 18,
   "id": "de471c91",
   "metadata": {
    "executionInfo": {
     "elapsed": 36,
     "status": "ok",
     "timestamp": 1668871378946,
     "user": {
      "displayName": "Axel Fridman",
      "userId": "03658756656230928317"
     },
     "user_tz": 180
    },
    "id": "de471c91"
   },
   "outputs": [],
   "source": [
    "def metodoDFP(hk, sk, yk):\n",
    "    res = hk + (np.outer(sk,sk.T))/(yk.T@sk)\n",
    "    res = res -  (hk@np.outer(yk,(yk.T))@hk)/(yk.T@ hk@yk)\n",
    "    return res"
   ]
  },
  {
   "cell_type": "code",
   "execution_count": 19,
   "id": "b7be3fb6",
   "metadata": {
    "executionInfo": {
     "elapsed": 36,
     "status": "ok",
     "timestamp": 1668871378946,
     "user": {
      "displayName": "Axel Fridman",
      "userId": "03658756656230928317"
     },
     "user_tz": 180
    },
    "id": "b7be3fb6"
   },
   "outputs": [],
   "source": [
    "def metodoBFGS(hk, sk, yk):\n",
    "    res = hk + (1+(yk.T@hk@yk)/(sk.T@yk)) * (sk@sk.T)/(sk.T@yk)\n",
    "    res = res - ((sk @ (yk.T) @ hk) + hk@yk@(sk.T))/(sk.T@yk)\n",
    "    return res"
   ]
  },
  {
   "cell_type": "markdown",
   "id": "476bb43b",
   "metadata": {
    "id": "476bb43b"
   },
   "source": [
    "## Cargar los archivos con las matrices generadas por nosotros previamente"
   ]
  },
  {
   "cell_type": "code",
   "execution_count": 20,
   "id": "rCaEdvXTfGZK",
   "metadata": {
    "executionInfo": {
     "elapsed": 10,
     "status": "ok",
     "timestamp": 1668871473487,
     "user": {
      "displayName": "Axel Fridman",
      "userId": "03658756656230928317"
     },
     "user_tz": 180
    },
    "id": "rCaEdvXTfGZK"
   },
   "outputs": [],
   "source": [
    "#pick_read = open('/content/gdrive/MyDrive/UBA/invop/tps/matrices.pkl','rb')\n",
    "#mats = pickle.load(pick_read)\n",
    "#pick_read.close()\n",
    "with open('matrices.pkl', 'rb') as f:\n",
    "    F = pickle.load(f)"
   ]
  },
  {
   "cell_type": "code",
   "execution_count": 21,
   "id": "ca266624",
   "metadata": {
    "executionInfo": {
     "elapsed": 608,
     "status": "ok",
     "timestamp": 1668871560926,
     "user": {
      "displayName": "Axel Fridman",
      "userId": "03658756656230928317"
     },
     "user_tz": 180
    },
    "id": "ca266624"
   },
   "outputs": [],
   "source": [
    "df =  pd.read_csv('infos.csv')#pd.read_csv('/content/gdrive/MyDrive/UBA/invop/tps/infos.csv')\n",
    "dfResEj1 = pd.read_csv(\"dfResEj1.csv\")"
   ]
  },
  {
   "cell_type": "code",
   "execution_count": 22,
   "id": "a4abee56",
   "metadata": {
    "executionInfo": {
     "elapsed": 264,
     "status": "ok",
     "timestamp": 1668871577398,
     "user": {
      "displayName": "Axel Fridman",
      "userId": "03658756656230928317"
     },
     "user_tz": 180
    },
    "id": "a4abee56"
   },
   "outputs": [],
   "source": [
    "df[\"mat\"] = F.values() #mats.values()"
   ]
  },
  {
   "cell_type": "code",
   "execution_count": 23,
   "id": "1f02717a",
   "metadata": {
    "colab": {
     "base_uri": "https://localhost:8080/",
     "height": 206
    },
    "executionInfo": {
     "elapsed": 9,
     "status": "ok",
     "timestamp": 1668871578689,
     "user": {
      "displayName": "Axel Fridman",
      "userId": "03658756656230928317"
     },
     "user_tz": 180
    },
    "id": "1f02717a",
    "outputId": "fa405052-8021-4843-801f-b0c008a68d26"
   },
   "outputs": [
    {
     "data": {
      "text/html": [
       "<div>\n",
       "<style scoped>\n",
       "    .dataframe tbody tr th:only-of-type {\n",
       "        vertical-align: middle;\n",
       "    }\n",
       "\n",
       "    .dataframe tbody tr th {\n",
       "        vertical-align: top;\n",
       "    }\n",
       "\n",
       "    .dataframe thead th {\n",
       "        text-align: right;\n",
       "    }\n",
       "</style>\n",
       "<table border=\"1\" class=\"dataframe\">\n",
       "  <thead>\n",
       "    <tr style=\"text-align: right;\">\n",
       "      <th></th>\n",
       "      <th>Unnamed: 0</th>\n",
       "      <th>tamanio</th>\n",
       "      <th>autovalores</th>\n",
       "      <th>autovalorMax</th>\n",
       "      <th>autovalorMin</th>\n",
       "      <th>rangoAutovalores</th>\n",
       "      <th>mat</th>\n",
       "    </tr>\n",
       "  </thead>\n",
       "  <tbody>\n",
       "    <tr>\n",
       "      <th>0</th>\n",
       "      <td>0</td>\n",
       "      <td>(2, 2)</td>\n",
       "      <td>[2.13039600e+00 1.53733452e-04]</td>\n",
       "      <td>2.130396</td>\n",
       "      <td>0.000154</td>\n",
       "      <td>2.130242</td>\n",
       "      <td>[[1.4277800159666887, 1.0015353443246913], [1....</td>\n",
       "    </tr>\n",
       "    <tr>\n",
       "      <th>1</th>\n",
       "      <td>1</td>\n",
       "      <td>(2, 2)</td>\n",
       "      <td>[5.0753714  0.10702353]</td>\n",
       "      <td>5.075371</td>\n",
       "      <td>0.107024</td>\n",
       "      <td>4.968348</td>\n",
       "      <td>[[3.1084677041108315, 2.4297225441430976], [2....</td>\n",
       "    </tr>\n",
       "    <tr>\n",
       "      <th>2</th>\n",
       "      <td>2</td>\n",
       "      <td>(2, 2)</td>\n",
       "      <td>[8.90007051 1.18815833]</td>\n",
       "      <td>8.900071</td>\n",
       "      <td>1.188158</td>\n",
       "      <td>7.711912</td>\n",
       "      <td>[[6.319120032244062, 3.6390600481153315], [3.6...</td>\n",
       "    </tr>\n",
       "    <tr>\n",
       "      <th>3</th>\n",
       "      <td>3</td>\n",
       "      <td>(2, 2)</td>\n",
       "      <td>[5.48386614e+00 3.73334809e-04]</td>\n",
       "      <td>5.483866</td>\n",
       "      <td>0.000373</td>\n",
       "      <td>5.483493</td>\n",
       "      <td>[[5.203384950030568, 1.2080343186411266], [1.2...</td>\n",
       "    </tr>\n",
       "    <tr>\n",
       "      <th>4</th>\n",
       "      <td>4</td>\n",
       "      <td>(2, 2)</td>\n",
       "      <td>[12.15494409 24.71610474]</td>\n",
       "      <td>24.716105</td>\n",
       "      <td>12.154944</td>\n",
       "      <td>12.561161</td>\n",
       "      <td>[[16.76994508395115, 6.055702662291634], [6.05...</td>\n",
       "    </tr>\n",
       "  </tbody>\n",
       "</table>\n",
       "</div>"
      ],
      "text/plain": [
       "   Unnamed: 0 tamanio                      autovalores  autovalorMax  \\\n",
       "0           0  (2, 2)  [2.13039600e+00 1.53733452e-04]      2.130396   \n",
       "1           1  (2, 2)          [5.0753714  0.10702353]      5.075371   \n",
       "2           2  (2, 2)          [8.90007051 1.18815833]      8.900071   \n",
       "3           3  (2, 2)  [5.48386614e+00 3.73334809e-04]      5.483866   \n",
       "4           4  (2, 2)        [12.15494409 24.71610474]     24.716105   \n",
       "\n",
       "   autovalorMin  rangoAutovalores  \\\n",
       "0      0.000154          2.130242   \n",
       "1      0.107024          4.968348   \n",
       "2      1.188158          7.711912   \n",
       "3      0.000373          5.483493   \n",
       "4     12.154944         12.561161   \n",
       "\n",
       "                                                 mat  \n",
       "0  [[1.4277800159666887, 1.0015353443246913], [1....  \n",
       "1  [[3.1084677041108315, 2.4297225441430976], [2....  \n",
       "2  [[6.319120032244062, 3.6390600481153315], [3.6...  \n",
       "3  [[5.203384950030568, 1.2080343186411266], [1.2...  \n",
       "4  [[16.76994508395115, 6.055702662291634], [6.05...  "
      ]
     },
     "execution_count": 23,
     "metadata": {},
     "output_type": "execute_result"
    }
   ],
   "source": [
    "df.head()"
   ]
  },
  {
   "cell_type": "markdown",
   "id": "864ffdcd",
   "metadata": {
    "id": "864ffdcd"
   },
   "source": [
    "Ejercicio 1\n",
    "\n",
    "```\n",
    "\n",
    "```\n",
    "\n"
   ]
  },
  {
   "cell_type": "markdown",
   "id": "af72d488",
   "metadata": {},
   "source": [
    "NO CORRER. YA ESTAN LOS RESULTADOS"
   ]
  },
  {
   "cell_type": "code",
   "execution_count": 24,
   "id": "waqGzp5hs9y2",
   "metadata": {
    "executionInfo": {
     "elapsed": 257336,
     "status": "ok",
     "timestamp": 1668880342471,
     "user": {
      "displayName": "Axel Fridman",
      "userId": "03658756656230928317"
     },
     "user_tz": 180
    },
    "id": "waqGzp5hs9y2"
   },
   "outputs": [
    {
     "ename": "NameError",
     "evalue": "name 'mats10por10' is not defined",
     "output_type": "error",
     "traceback": [
      "\u001b[0;31m---------------------------------------------------------------------------\u001b[0m",
      "\u001b[0;31mNameError\u001b[0m                                 Traceback (most recent call last)",
      "\u001b[0;32m<ipython-input-24-3ad7f8c159b0>\u001b[0m in \u001b[0;36m<module>\u001b[0;34m\u001b[0m\n\u001b[1;32m      8\u001b[0m \u001b[0mrangoAutovals\u001b[0m \u001b[0;34m=\u001b[0m \u001b[0;34m[\u001b[0m\u001b[0;34m]\u001b[0m\u001b[0;34m\u001b[0m\u001b[0;34m\u001b[0m\u001b[0m\n\u001b[1;32m      9\u001b[0m \u001b[0;32mfor\u001b[0m \u001b[0mj\u001b[0m \u001b[0;32min\u001b[0m \u001b[0mrange\u001b[0m\u001b[0;34m(\u001b[0m\u001b[0;36m0\u001b[0m\u001b[0;34m,\u001b[0m \u001b[0mlen\u001b[0m\u001b[0;34m(\u001b[0m\u001b[0mtamaniosPaso\u001b[0m\u001b[0;34m)\u001b[0m\u001b[0;34m)\u001b[0m\u001b[0;34m:\u001b[0m\u001b[0;34m\u001b[0m\u001b[0;34m\u001b[0m\u001b[0m\n\u001b[0;32m---> 10\u001b[0;31m   \u001b[0;32mfor\u001b[0m \u001b[0mi\u001b[0m \u001b[0;32min\u001b[0m \u001b[0mrange\u001b[0m\u001b[0;34m(\u001b[0m\u001b[0;36m0\u001b[0m\u001b[0;34m,\u001b[0m \u001b[0mlen\u001b[0m\u001b[0;34m(\u001b[0m\u001b[0mmats10por10\u001b[0m\u001b[0;34m)\u001b[0m\u001b[0;34m)\u001b[0m\u001b[0;34m:\u001b[0m\u001b[0;34m\u001b[0m\u001b[0;34m\u001b[0m\u001b[0m\n\u001b[0m\u001b[1;32m     11\u001b[0m     \u001b[0ms\u001b[0m \u001b[0;34m=\u001b[0m \u001b[0mtime\u001b[0m\u001b[0;34m.\u001b[0m\u001b[0mtime\u001b[0m\u001b[0;34m(\u001b[0m\u001b[0;34m)\u001b[0m\u001b[0;34m\u001b[0m\u001b[0;34m\u001b[0m\u001b[0m\n\u001b[1;32m     12\u001b[0m     \u001b[0mx\u001b[0m\u001b[0;34m,\u001b[0m \u001b[0miter\u001b[0m \u001b[0;34m=\u001b[0m \u001b[0mmetodo_gradienteCuadraticas\u001b[0m\u001b[0;34m(\u001b[0m\u001b[0mmats10por10\u001b[0m\u001b[0;34m[\u001b[0m\u001b[0;34m\"mat\"\u001b[0m\u001b[0;34m]\u001b[0m\u001b[0;34m[\u001b[0m\u001b[0mi\u001b[0m\u001b[0;34m+\u001b[0m\u001b[0;36m400\u001b[0m\u001b[0;34m]\u001b[0m\u001b[0;34m,\u001b[0m\u001b[0mzero\u001b[0m\u001b[0;34m,\u001b[0m \u001b[0;36m1\u001b[0m\u001b[0;34m*\u001b[0m\u001b[0munos\u001b[0m\u001b[0;34m,\u001b[0m \u001b[0mmaxIters\u001b[0m\u001b[0;34m,\u001b[0m \u001b[0mtamaniosPaso\u001b[0m\u001b[0;34m[\u001b[0m\u001b[0mj\u001b[0m\u001b[0;34m]\u001b[0m\u001b[0;34m)\u001b[0m\u001b[0;34m\u001b[0m\u001b[0;34m\u001b[0m\u001b[0m\n",
      "\u001b[0;31mNameError\u001b[0m: name 'mats10por10' is not defined"
     ]
    }
   ],
   "source": [
    "maxIters = 180000\n",
    "zero = np.zeros(10)\n",
    "unos = np.ones(10)\n",
    "tamaniosPaso = [1/4, 1/2, 3/4, 0.99, 0.999, 1, 0] #0 es la version numero aleatorio entre 0 y 1\n",
    "resultadosIter = []\n",
    "tiempos =  []\n",
    "pasos = []\n",
    "rangoAutovals = []\n",
    "for j in range(0, len(tamaniosPaso)):\n",
    "  for i in range(0, len(mats10por10)):\n",
    "    s = time.time()\n",
    "    x, iter = metodo_gradienteCuadraticas(mats10por10[\"mat\"][i+400],zero, 1*unos, maxIters, tamaniosPaso[j])\n",
    "    pasos.append(tamaniosPaso[j])\n",
    "    resultadosIter.append(iter)\n",
    "    tiempos.append(time.time()-s)\n",
    "    rangoAutovals.append(mats10por10[\"rangoAutovalores\"][i+400])"
   ]
  },
  {
   "cell_type": "code",
   "execution_count": 25,
   "id": "CFSORDR3tYwj",
   "metadata": {
    "executionInfo": {
     "elapsed": 44,
     "status": "ok",
     "timestamp": 1668880342472,
     "user": {
      "displayName": "Axel Fridman",
      "userId": "03658756656230928317"
     },
     "user_tz": 180
    },
    "id": "CFSORDR3tYwj"
   },
   "outputs": [],
   "source": [
    "res = {'rangoAutovalores': rangoAutovals, 'pasos': pasos,'iters': resultadosIter, \"tiempo\":tiempos}\n",
    "dfResEj1 = pd.DataFrame(data=res)"
   ]
  },
  {
   "cell_type": "markdown",
   "id": "3b1b72a6",
   "metadata": {},
   "source": [
    "DE ACA EN ADELANTE SI"
   ]
  },
  {
   "cell_type": "code",
   "execution_count": 26,
   "id": "6842be38",
   "metadata": {},
   "outputs": [],
   "source": [
    "tamaniosPaso = [1/4, 1/2, 3/4, 0.99, 0.999, 1, 0] #0 es la version numero aleatorio entre 0 y 1\n"
   ]
  },
  {
   "cell_type": "code",
   "execution_count": 27,
   "id": "y7cIHMKs2p-7",
   "metadata": {
    "colab": {
     "base_uri": "https://localhost:8080/",
     "height": 312
    },
    "executionInfo": {
     "elapsed": 588,
     "status": "ok",
     "timestamp": 1668879996130,
     "user": {
      "displayName": "Axel Fridman",
      "userId": "03658756656230928317"
     },
     "user_tz": 180
    },
    "id": "y7cIHMKs2p-7",
    "outputId": "553471f0-f95c-4171-de77-7a890b1d60bc"
   },
   "outputs": [
    {
     "data": {
      "text/plain": [
       "Text(0, 0.5, 'Tiempo en segundos')"
      ]
     },
     "execution_count": 27,
     "metadata": {},
     "output_type": "execute_result"
    },
    {
     "data": {
      "image/png": "[encoded data removed]",
      "text/plain": [
       "<Figure size 432x288 with 1 Axes>"
      ]
     },
     "metadata": {
      "needs_background": "light"
     },
     "output_type": "display_data"
    }
   ],
   "source": [
    "plt.scatter(dfResEj1['iters'], dfResEj1['tiempo'], c=dfResEj1['pasos'], label=dfResEj1['pasos'])\n",
    "\n",
    "plt.title(\"Tiempo en funcion de iteraciones\")\n",
    "plt.xlabel(\"Iteraciones\")\n",
    "plt.ylabel(\"Tiempo en segundos\")"
   ]
  },
  {
   "cell_type": "code",
   "execution_count": 28,
   "id": "MAHSJ6gmvdF-",
   "metadata": {
    "colab": {
     "base_uri": "https://localhost:8080/",
     "height": 299
    },
    "executionInfo": {
     "elapsed": 949,
     "status": "ok",
     "timestamp": 1668879993992,
     "user": {
      "displayName": "Axel Fridman",
      "userId": "03658756656230928317"
     },
     "user_tz": 180
    },
    "id": "MAHSJ6gmvdF-",
    "outputId": "bf4912e3-6030-4d91-f079-41ec51497512"
   },
   "outputs": [
    {
     "name": "stderr",
     "output_type": "stream",
     "text": [
      "No handles with labels found to put in legend.\n"
     ]
    },
    {
     "data": {
      "image/png": "[encoded data removed]",
      "text/plain": [
       "<Figure size 432x288 with 1 Axes>"
      ]
     },
     "metadata": {
      "needs_background": "light"
     },
     "output_type": "display_data"
    }
   ],
   "source": [
    "plt.scatter(dfResEj1['rangoAutovalores'], dfResEj1['iters'], c=dfResEj1['pasos'])#label=pd.unique(dfResEj1['pasos']))\n",
    "plt.title(\"Iteraciones en funcion de rango de autovalores\")\n",
    "plt.xlabel(\"Rango autovalores (max-min) escala log\")\n",
    "plt.ylabel(\"Iteraciones\")\n",
    "plt.xscale(\"log\")\n",
    "plt.legend()\n",
    "plt.show()"
   ]
  },
  {
   "cell_type": "code",
   "execution_count": 29,
   "id": "BEEyM8-k2izb",
   "metadata": {
    "colab": {
     "base_uri": "https://localhost:8080/",
     "height": 269
    },
    "executionInfo": {
     "elapsed": 790,
     "status": "ok",
     "timestamp": 1668880017796,
     "user": {
      "displayName": "Axel Fridman",
      "userId": "03658756656230928317"
     },
     "user_tz": 180
    },
    "id": "BEEyM8-k2izb",
    "outputId": "f43b29b5-5f69-4fcb-f459-26c86f506be4"
   },
   "outputs": [
    {
     "data": {
      "text/plain": [
       "<matplotlib.collections.PathCollection at 0x7f19ab937940>"
      ]
     },
     "execution_count": 29,
     "metadata": {},
     "output_type": "execute_result"
    },
    {
     "data": {
      "image/png": "[encoded data removed]",
      "text/plain": [
       "<Figure size 432x288 with 1 Axes>"
      ]
     },
     "metadata": {
      "needs_background": "light"
     },
     "output_type": "display_data"
    }
   ],
   "source": [
    "paso1 = dfResEj1[dfResEj1[\"pasos\"]==0.75]\n",
    "plt.scatter(paso1['rangoAutovalores'], paso1['tiempo'], c=paso1['pasos'])\n",
    "#plt.xscale(\"log\")"
   ]
  },
  {
   "cell_type": "code",
   "execution_count": 30,
   "id": "s1IxDDNeuxEK",
   "metadata": {
    "colab": {
     "base_uri": "https://localhost:8080/",
     "height": 386
    },
    "executionInfo": {
     "elapsed": 921,
     "status": "ok",
     "timestamp": 1668876923426,
     "user": {
      "displayName": "Axel Fridman",
      "userId": "03658756656230928317"
     },
     "user_tz": 180
    },
    "id": "s1IxDDNeuxEK",
    "outputId": "c0da39f5-77a8-4c64-ea9c-2fa8426e178d"
   },
   "outputs": [
    {
     "name": "stderr",
     "output_type": "stream",
     "text": [
      "<ipython-input-30-a38f75835dbf>:1: UserWarning:\n",
      "\n",
      "\n",
      "\n",
      "The `bw` parameter is deprecated in favor of `bw_method` and `bw_adjust`.\n",
      "Setting `bw_method=0.1`, but please see the docs for the new parameters\n",
      "and update your code. This will become an error in seaborn v0.13.0.\n",
      "\n",
      "\n"
     ]
    },
    {
     "data": {
      "text/plain": [
       "<matplotlib.axes._subplots.AxesSubplot at 0x7f19ab8a85b0>"
      ]
     },
     "execution_count": 30,
     "metadata": {},
     "output_type": "execute_result"
    },
    {
     "data": {
      "image/png": "[encoded data removed]",
      "text/plain": [
       "<Figure size 432x288 with 1 Axes>"
      ]
     },
     "metadata": {
      "needs_background": "light"
     },
     "output_type": "display_data"
    }
   ],
   "source": [
    "sns.kdeplot(data=dfResEj1, x='iters', hue='pasos', common_norm= False, bw=0.1)"
   ]
  },
  {
   "cell_type": "code",
   "execution_count": 31,
   "id": "11981fce",
   "metadata": {},
   "outputs": [
    {
     "data": {
      "image/png": "[encoded data removed]",
      "text/plain": [
       "<Figure size 1440x1440 with 9 Axes>"
      ]
     },
     "metadata": {
      "needs_background": "light"
     },
     "output_type": "display_data"
    }
   ],
   "source": [
    "figure, axis = plt.subplots(3,3, figsize=(20,20))\n",
    "s = 0\n",
    "for i in range(0,3):\n",
    "    for j in range(0, 3):\n",
    "        if(s<7):\n",
    "            paso1 = dfResEj1[dfResEj1[\"pasos\"]==tamaniosPaso[s]]\n",
    "            axis[i, j].scatter(paso1['rangoAutovalores'], paso1['tiempo'], c=paso1['pasos'])\n",
    "            if(tamaniosPaso[s]!=0):\n",
    "                axis[i, j].set_title(\"Tamaño de paso \" + str(tamaniosPaso[s]))\n",
    "            else:\n",
    "                axis[i, j].set_title(\" Tamaño de paso aleatorio entre 0 y 1\")\n",
    "            axis[i,j].set_ylim([0, 6])        \n",
    "\n",
    "        s = s + 1\n",
    "plt.show()"
   ]
  },
  {
   "cell_type": "code",
   "execution_count": 32,
   "id": "yz_Def93yti8",
   "metadata": {
    "colab": {
     "base_uri": "https://localhost:8080/",
     "height": 17
    },
    "executionInfo": {
     "elapsed": 38,
     "status": "ok",
     "timestamp": 1668880342473,
     "user": {
      "displayName": "Axel Fridman",
      "userId": "03658756656230928317"
     },
     "user_tz": 180
    },
    "id": "yz_Def93yti8",
    "outputId": "86dd0e0d-2a53-4ecb-b324-0c3ddb7bc376"
   },
   "outputs": [],
   "source": [
    "#from google.colab import files\n",
    "#dfResEj1.to_csv('dfResEj1.csv') \n",
    "#files.download('dfResEj1.csv')"
   ]
  },
  {
   "cell_type": "code",
   "execution_count": 33,
   "id": "6eb1fb06",
   "metadata": {},
   "outputs": [
    {
     "data": {
      "text/html": [
       "<div>\n",
       "<style scoped>\n",
       "    .dataframe tbody tr th:only-of-type {\n",
       "        vertical-align: middle;\n",
       "    }\n",
       "\n",
       "    .dataframe tbody tr th {\n",
       "        vertical-align: top;\n",
       "    }\n",
       "\n",
       "    .dataframe thead th {\n",
       "        text-align: right;\n",
       "    }\n",
       "</style>\n",
       "<table border=\"1\" class=\"dataframe\">\n",
       "  <thead>\n",
       "    <tr style=\"text-align: right;\">\n",
       "      <th></th>\n",
       "      <th>Unnamed: 0</th>\n",
       "      <th>tamanio</th>\n",
       "      <th>autovalores</th>\n",
       "      <th>autovalorMax</th>\n",
       "      <th>autovalorMin</th>\n",
       "      <th>rangoAutovalores</th>\n",
       "      <th>mat</th>\n",
       "    </tr>\n",
       "  </thead>\n",
       "  <tbody>\n",
       "    <tr>\n",
       "      <th>0</th>\n",
       "      <td>0</td>\n",
       "      <td>(2, 2)</td>\n",
       "      <td>[2.13039600e+00 1.53733452e-04]</td>\n",
       "      <td>2.130396e+00</td>\n",
       "      <td>0.000154</td>\n",
       "      <td>2.130242e+00</td>\n",
       "      <td>[[1.4277800159666887, 1.0015353443246913], [1....</td>\n",
       "    </tr>\n",
       "    <tr>\n",
       "      <th>1</th>\n",
       "      <td>1</td>\n",
       "      <td>(2, 2)</td>\n",
       "      <td>[5.0753714  0.10702353]</td>\n",
       "      <td>5.075371e+00</td>\n",
       "      <td>0.107024</td>\n",
       "      <td>4.968348e+00</td>\n",
       "      <td>[[3.1084677041108315, 2.4297225441430976], [2....</td>\n",
       "    </tr>\n",
       "    <tr>\n",
       "      <th>2</th>\n",
       "      <td>2</td>\n",
       "      <td>(2, 2)</td>\n",
       "      <td>[8.90007051 1.18815833]</td>\n",
       "      <td>8.900071e+00</td>\n",
       "      <td>1.188158</td>\n",
       "      <td>7.711912e+00</td>\n",
       "      <td>[[6.319120032244062, 3.6390600481153315], [3.6...</td>\n",
       "    </tr>\n",
       "    <tr>\n",
       "      <th>3</th>\n",
       "      <td>3</td>\n",
       "      <td>(2, 2)</td>\n",
       "      <td>[5.48386614e+00 3.73334809e-04]</td>\n",
       "      <td>5.483866e+00</td>\n",
       "      <td>0.000373</td>\n",
       "      <td>5.483493e+00</td>\n",
       "      <td>[[5.203384950030568, 1.2080343186411266], [1.2...</td>\n",
       "    </tr>\n",
       "    <tr>\n",
       "      <th>4</th>\n",
       "      <td>4</td>\n",
       "      <td>(2, 2)</td>\n",
       "      <td>[12.15494409 24.71610474]</td>\n",
       "      <td>2.471610e+01</td>\n",
       "      <td>12.154944</td>\n",
       "      <td>1.256116e+01</td>\n",
       "      <td>[[16.76994508395115, 6.055702662291634], [6.05...</td>\n",
       "    </tr>\n",
       "    <tr>\n",
       "      <th>...</th>\n",
       "      <td>...</td>\n",
       "      <td>...</td>\n",
       "      <td>...</td>\n",
       "      <td>...</td>\n",
       "      <td>...</td>\n",
       "      <td>...</td>\n",
       "      <td>...</td>\n",
       "    </tr>\n",
       "    <tr>\n",
       "      <th>895</th>\n",
       "      <td>895</td>\n",
       "      <td>(200, 200)</td>\n",
       "      <td>[9.21345276e+07 6.00533605e+05 5.70291990e+05 ...</td>\n",
       "      <td>9.213453e+07</td>\n",
       "      <td>11.661051</td>\n",
       "      <td>9.213452e+07</td>\n",
       "      <td>[[597581.2955310631, 438044.93462902965, 46668...</td>\n",
       "    </tr>\n",
       "    <tr>\n",
       "      <th>896</th>\n",
       "      <td>896</td>\n",
       "      <td>(200, 200)</td>\n",
       "      <td>[9.49249818e+07 6.12618378e+05 5.93736134e+05 ...</td>\n",
       "      <td>9.492498e+07</td>\n",
       "      <td>0.081413</td>\n",
       "      <td>9.492498e+07</td>\n",
       "      <td>[[647650.3247842679, 448159.1950441256, 470908...</td>\n",
       "    </tr>\n",
       "    <tr>\n",
       "      <th>897</th>\n",
       "      <td>897</td>\n",
       "      <td>(200, 200)</td>\n",
       "      <td>[9.59743697e+07 6.15718613e+05 5.93635176e+05 ...</td>\n",
       "      <td>9.597437e+07</td>\n",
       "      <td>0.182582</td>\n",
       "      <td>9.597437e+07</td>\n",
       "      <td>[[632222.2896321212, 464755.69765387033, 52072...</td>\n",
       "    </tr>\n",
       "    <tr>\n",
       "      <th>898</th>\n",
       "      <td>898</td>\n",
       "      <td>(200, 200)</td>\n",
       "      <td>[9.81884878e+07 6.19073300e+05 6.06222160e+05 ...</td>\n",
       "      <td>9.818849e+07</td>\n",
       "      <td>2.015392</td>\n",
       "      <td>9.818849e+07</td>\n",
       "      <td>[[635386.0147657621, 490770.8197573107, 483793...</td>\n",
       "    </tr>\n",
       "    <tr>\n",
       "      <th>899</th>\n",
       "      <td>899</td>\n",
       "      <td>(200, 200)</td>\n",
       "      <td>[9.92740468e+07 6.61023668e+05 6.34519321e+05 ...</td>\n",
       "      <td>9.927405e+07</td>\n",
       "      <td>0.000087</td>\n",
       "      <td>9.927405e+07</td>\n",
       "      <td>[[618475.3158973174, 444135.6755136844, 498660...</td>\n",
       "    </tr>\n",
       "  </tbody>\n",
       "</table>\n",
       "<p>900 rows × 7 columns</p>\n",
       "</div>"
      ],
      "text/plain": [
       "     Unnamed: 0     tamanio  \\\n",
       "0             0      (2, 2)   \n",
       "1             1      (2, 2)   \n",
       "2             2      (2, 2)   \n",
       "3             3      (2, 2)   \n",
       "4             4      (2, 2)   \n",
       "..          ...         ...   \n",
       "895         895  (200, 200)   \n",
       "896         896  (200, 200)   \n",
       "897         897  (200, 200)   \n",
       "898         898  (200, 200)   \n",
       "899         899  (200, 200)   \n",
       "\n",
       "                                           autovalores  autovalorMax  \\\n",
       "0                      [2.13039600e+00 1.53733452e-04]  2.130396e+00   \n",
       "1                              [5.0753714  0.10702353]  5.075371e+00   \n",
       "2                              [8.90007051 1.18815833]  8.900071e+00   \n",
       "3                      [5.48386614e+00 3.73334809e-04]  5.483866e+00   \n",
       "4                            [12.15494409 24.71610474]  2.471610e+01   \n",
       "..                                                 ...           ...   \n",
       "895  [9.21345276e+07 6.00533605e+05 5.70291990e+05 ...  9.213453e+07   \n",
       "896  [9.49249818e+07 6.12618378e+05 5.93736134e+05 ...  9.492498e+07   \n",
       "897  [9.59743697e+07 6.15718613e+05 5.93635176e+05 ...  9.597437e+07   \n",
       "898  [9.81884878e+07 6.19073300e+05 6.06222160e+05 ...  9.818849e+07   \n",
       "899  [9.92740468e+07 6.61023668e+05 6.34519321e+05 ...  9.927405e+07   \n",
       "\n",
       "     autovalorMin  rangoAutovalores  \\\n",
       "0        0.000154      2.130242e+00   \n",
       "1        0.107024      4.968348e+00   \n",
       "2        1.188158      7.711912e+00   \n",
       "3        0.000373      5.483493e+00   \n",
       "4       12.154944      1.256116e+01   \n",
       "..            ...               ...   \n",
       "895     11.661051      9.213452e+07   \n",
       "896      0.081413      9.492498e+07   \n",
       "897      0.182582      9.597437e+07   \n",
       "898      2.015392      9.818849e+07   \n",
       "899      0.000087      9.927405e+07   \n",
       "\n",
       "                                                   mat  \n",
       "0    [[1.4277800159666887, 1.0015353443246913], [1....  \n",
       "1    [[3.1084677041108315, 2.4297225441430976], [2....  \n",
       "2    [[6.319120032244062, 3.6390600481153315], [3.6...  \n",
       "3    [[5.203384950030568, 1.2080343186411266], [1.2...  \n",
       "4    [[16.76994508395115, 6.055702662291634], [6.05...  \n",
       "..                                                 ...  \n",
       "895  [[597581.2955310631, 438044.93462902965, 46668...  \n",
       "896  [[647650.3247842679, 448159.1950441256, 470908...  \n",
       "897  [[632222.2896321212, 464755.69765387033, 52072...  \n",
       "898  [[635386.0147657621, 490770.8197573107, 483793...  \n",
       "899  [[618475.3158973174, 444135.6755136844, 498660...  \n",
       "\n",
       "[900 rows x 7 columns]"
      ]
     },
     "execution_count": 33,
     "metadata": {},
     "output_type": "execute_result"
    }
   ],
   "source": [
    "df"
   ]
  },
  {
   "cell_type": "code",
   "execution_count": 34,
   "id": "69edf923",
   "metadata": {},
   "outputs": [],
   "source": [
    "df2por2 = df[df[\"tamanio\"]==\"(2, 2)\"]"
   ]
  },
  {
   "cell_type": "code",
   "execution_count": 35,
   "id": "e24a5356",
   "metadata": {},
   "outputs": [
    {
     "data": {
      "text/plain": [
       "(array([-3.12392324,  1.34597083]), 10001)"
      ]
     },
     "execution_count": 35,
     "metadata": {},
     "output_type": "execute_result"
    }
   ],
   "source": [
    "# 1 b\n",
    "metodo_gradienteCuadraticasRotado(df2por2.mat[1],np.zeros(2), 78*np.ones(2), 10000,1, -1/3* 3.1415926)"
   ]
  },
  {
   "cell_type": "code",
   "execution_count": 36,
   "id": "e20bb711",
   "metadata": {},
   "outputs": [
    {
     "data": {
      "text/html": [
       "<div>\n",
       "<style scoped>\n",
       "    .dataframe tbody tr th:only-of-type {\n",
       "        vertical-align: middle;\n",
       "    }\n",
       "\n",
       "    .dataframe tbody tr th {\n",
       "        vertical-align: top;\n",
       "    }\n",
       "\n",
       "    .dataframe thead th {\n",
       "        text-align: right;\n",
       "    }\n",
       "</style>\n",
       "<table border=\"1\" class=\"dataframe\">\n",
       "  <thead>\n",
       "    <tr style=\"text-align: right;\">\n",
       "      <th></th>\n",
       "      <th>Unnamed: 0</th>\n",
       "      <th>tamanio</th>\n",
       "      <th>autovalores</th>\n",
       "      <th>autovalorMax</th>\n",
       "      <th>autovalorMin</th>\n",
       "      <th>rangoAutovalores</th>\n",
       "      <th>mat</th>\n",
       "    </tr>\n",
       "  </thead>\n",
       "  <tbody>\n",
       "    <tr>\n",
       "      <th>0</th>\n",
       "      <td>0</td>\n",
       "      <td>(2, 2)</td>\n",
       "      <td>[2.13039600e+00 1.53733452e-04]</td>\n",
       "      <td>2.130396</td>\n",
       "      <td>0.000154</td>\n",
       "      <td>2.130242</td>\n",
       "      <td>[[1.4277800159666887, 1.0015353443246913], [1....</td>\n",
       "    </tr>\n",
       "    <tr>\n",
       "      <th>1</th>\n",
       "      <td>1</td>\n",
       "      <td>(2, 2)</td>\n",
       "      <td>[5.0753714  0.10702353]</td>\n",
       "      <td>5.075371</td>\n",
       "      <td>0.107024</td>\n",
       "      <td>4.968348</td>\n",
       "      <td>[[3.1084677041108315, 2.4297225441430976], [2....</td>\n",
       "    </tr>\n",
       "    <tr>\n",
       "      <th>2</th>\n",
       "      <td>2</td>\n",
       "      <td>(2, 2)</td>\n",
       "      <td>[8.90007051 1.18815833]</td>\n",
       "      <td>8.900071</td>\n",
       "      <td>1.188158</td>\n",
       "      <td>7.711912</td>\n",
       "      <td>[[6.319120032244062, 3.6390600481153315], [3.6...</td>\n",
       "    </tr>\n",
       "    <tr>\n",
       "      <th>3</th>\n",
       "      <td>3</td>\n",
       "      <td>(2, 2)</td>\n",
       "      <td>[5.48386614e+00 3.73334809e-04]</td>\n",
       "      <td>5.483866</td>\n",
       "      <td>0.000373</td>\n",
       "      <td>5.483493</td>\n",
       "      <td>[[5.203384950030568, 1.2080343186411266], [1.2...</td>\n",
       "    </tr>\n",
       "    <tr>\n",
       "      <th>4</th>\n",
       "      <td>4</td>\n",
       "      <td>(2, 2)</td>\n",
       "      <td>[12.15494409 24.71610474]</td>\n",
       "      <td>24.716105</td>\n",
       "      <td>12.154944</td>\n",
       "      <td>12.561161</td>\n",
       "      <td>[[16.76994508395115, 6.055702662291634], [6.05...</td>\n",
       "    </tr>\n",
       "    <tr>\n",
       "      <th>...</th>\n",
       "      <td>...</td>\n",
       "      <td>...</td>\n",
       "      <td>...</td>\n",
       "      <td>...</td>\n",
       "      <td>...</td>\n",
       "      <td>...</td>\n",
       "      <td>...</td>\n",
       "    </tr>\n",
       "    <tr>\n",
       "      <th>95</th>\n",
       "      <td>95</td>\n",
       "      <td>(2, 2)</td>\n",
       "      <td>[3.06881620e+03 5.76129888e-02]</td>\n",
       "      <td>3068.816199</td>\n",
       "      <td>0.057613</td>\n",
       "      <td>3068.758586</td>\n",
       "      <td>[[2155.140255282995, 1403.2274111435431], [140...</td>\n",
       "    </tr>\n",
       "    <tr>\n",
       "      <th>96</th>\n",
       "      <td>96</td>\n",
       "      <td>(2, 2)</td>\n",
       "      <td>[ 1024.35566548 21827.18907902]</td>\n",
       "      <td>21827.189079</td>\n",
       "      <td>1024.355665</td>\n",
       "      <td>20802.833414</td>\n",
       "      <td>[[9152.754968160652, 10150.01780237416], [1015...</td>\n",
       "    </tr>\n",
       "    <tr>\n",
       "      <th>97</th>\n",
       "      <td>97</td>\n",
       "      <td>(2, 2)</td>\n",
       "      <td>[12229.83526839   991.28691634]</td>\n",
       "      <td>12229.835268</td>\n",
       "      <td>991.286916</td>\n",
       "      <td>11238.548352</td>\n",
       "      <td>[[10268.024679869395, 4266.05231700815], [4266...</td>\n",
       "    </tr>\n",
       "    <tr>\n",
       "      <th>98</th>\n",
       "      <td>98</td>\n",
       "      <td>(2, 2)</td>\n",
       "      <td>[ 431.5786369  1714.76080462]</td>\n",
       "      <td>1714.760805</td>\n",
       "      <td>431.578637</td>\n",
       "      <td>1283.182168</td>\n",
       "      <td>[[466.29553739818283, 208.18944366709425], [20...</td>\n",
       "    </tr>\n",
       "    <tr>\n",
       "      <th>99</th>\n",
       "      <td>99</td>\n",
       "      <td>(2, 2)</td>\n",
       "      <td>[ 174.93112443 8737.90568458]</td>\n",
       "      <td>8737.905685</td>\n",
       "      <td>174.931124</td>\n",
       "      <td>8562.974560</td>\n",
       "      <td>[[405.3786131130559, 1385.7163988424545], [138...</td>\n",
       "    </tr>\n",
       "  </tbody>\n",
       "</table>\n",
       "<p>100 rows × 7 columns</p>\n",
       "</div>"
      ],
      "text/plain": [
       "    Unnamed: 0 tamanio                      autovalores  autovalorMax  \\\n",
       "0            0  (2, 2)  [2.13039600e+00 1.53733452e-04]      2.130396   \n",
       "1            1  (2, 2)          [5.0753714  0.10702353]      5.075371   \n",
       "2            2  (2, 2)          [8.90007051 1.18815833]      8.900071   \n",
       "3            3  (2, 2)  [5.48386614e+00 3.73334809e-04]      5.483866   \n",
       "4            4  (2, 2)        [12.15494409 24.71610474]     24.716105   \n",
       "..         ...     ...                              ...           ...   \n",
       "95          95  (2, 2)  [3.06881620e+03 5.76129888e-02]   3068.816199   \n",
       "96          96  (2, 2)  [ 1024.35566548 21827.18907902]  21827.189079   \n",
       "97          97  (2, 2)  [12229.83526839   991.28691634]  12229.835268   \n",
       "98          98  (2, 2)    [ 431.5786369  1714.76080462]   1714.760805   \n",
       "99          99  (2, 2)    [ 174.93112443 8737.90568458]   8737.905685   \n",
       "\n",
       "    autovalorMin  rangoAutovalores  \\\n",
       "0       0.000154          2.130242   \n",
       "1       0.107024          4.968348   \n",
       "2       1.188158          7.711912   \n",
       "3       0.000373          5.483493   \n",
       "4      12.154944         12.561161   \n",
       "..           ...               ...   \n",
       "95      0.057613       3068.758586   \n",
       "96   1024.355665      20802.833414   \n",
       "97    991.286916      11238.548352   \n",
       "98    431.578637       1283.182168   \n",
       "99    174.931124       8562.974560   \n",
       "\n",
       "                                                  mat  \n",
       "0   [[1.4277800159666887, 1.0015353443246913], [1....  \n",
       "1   [[3.1084677041108315, 2.4297225441430976], [2....  \n",
       "2   [[6.319120032244062, 3.6390600481153315], [3.6...  \n",
       "3   [[5.203384950030568, 1.2080343186411266], [1.2...  \n",
       "4   [[16.76994508395115, 6.055702662291634], [6.05...  \n",
       "..                                                ...  \n",
       "95  [[2155.140255282995, 1403.2274111435431], [140...  \n",
       "96  [[9152.754968160652, 10150.01780237416], [1015...  \n",
       "97  [[10268.024679869395, 4266.05231700815], [4266...  \n",
       "98  [[466.29553739818283, 208.18944366709425], [20...  \n",
       "99  [[405.3786131130559, 1385.7163988424545], [138...  \n",
       "\n",
       "[100 rows x 7 columns]"
      ]
     },
     "execution_count": 36,
     "metadata": {},
     "output_type": "execute_result"
    }
   ],
   "source": [
    "df2por2"
   ]
  },
  {
   "cell_type": "code",
   "execution_count": 37,
   "id": "c4a7185a",
   "metadata": {},
   "outputs": [],
   "source": [
    "maxIters = 2001\n",
    "zero = np.zeros(2)\n",
    "unos = np.ones(2)\n",
    "tamaniosRot = np.pi * np.array([-1/3, -1/4, -1/6, 0, 1/6, 1/4, 1/3])\n",
    "\n",
    "resultadosIter1b = []\n",
    "tiempos1b =  []\n",
    "rots1b = []\n",
    "rangoAutovals1b = []\n",
    "\n",
    "for j in range(0, len(tamaniosRot)):\n",
    "  for i in range(0, len(df2por2)):\n",
    "    s = time.time()\n",
    "    x, iters = metodo_gradienteCuadraticasRotado(df2por2[\"mat\"][i],zero, 1*unos, maxIters, 0.75, tamaniosRot[j])\n",
    "    rots1b.append(tamaniosRot[j])\n",
    "    resultadosIter1b.append(iters)\n",
    "    tiempos1b.append(time.time()-s)\n",
    "    rangoAutovals1b.append(df2por2[\"rangoAutovalores\"][i])"
   ]
  },
  {
   "cell_type": "code",
   "execution_count": 38,
   "id": "0ed228bd",
   "metadata": {},
   "outputs": [],
   "source": [
    "res1b = {'rangoAutovalores': rangoAutovals1b, 'rotacion': rots1b,'iters': resultadosIter1b, \"tiempo\":tiempos1b}\n",
    "dfResEj1b = pd.DataFrame(data=res1b)"
   ]
  },
  {
   "cell_type": "code",
   "execution_count": 39,
   "id": "f733153d",
   "metadata": {},
   "outputs": [
    {
     "data": {
      "image/png": "[encoded data removed]",
      "text/plain": [
       "<Figure size 1440x1440 with 9 Axes>"
      ]
     },
     "metadata": {
      "needs_background": "light"
     },
     "output_type": "display_data"
    }
   ],
   "source": [
    "tamaniosRot = np.pi * np.array([-1/3, -1/4, -1/6, 0, 1/6, 1/4, 1/3])\n",
    "figure, axis = plt.subplots(3,3, figsize=(20,20))\n",
    "s = 0\n",
    "for i in range(0,3):\n",
    "    for j in range(0, 3):\n",
    "        if(s<7):\n",
    "            paso1 = dfResEj1b[dfResEj1b[\"rotacion\"]==tamaniosRot[s]]\n",
    "            axis[i,j].set_ylim([0, 2001])        \n",
    "            axis[i, j].scatter(paso1['rangoAutovalores'], paso1['iters'], c=paso1['rotacion'], label=\"Promedio \"+str(np.mean(paso1['iters'])))\n",
    "            axis[i, j].set_xlabel(\"Rango autovalores (max- min)\")\n",
    "            axis[i, j].set_ylabel(\"Iteraciones\")\n",
    "            axis[i, j].legend(loc=\"upper left\")\n",
    "            axis[i, j].set_title(\"Tamaño de rot pi * \" + str(tamaniosRot[s]/np.pi))      \n",
    "        s = s + 1\n",
    "plt.show()"
   ]
  },
  {
   "cell_type": "code",
   "execution_count": 40,
   "id": "a1d38516",
   "metadata": {},
   "outputs": [],
   "source": [
    "dfResEj1b.to_csv('dfResEj1b.csv')"
   ]
  },
  {
   "cell_type": "markdown",
   "id": "e6390a77",
   "metadata": {},
   "source": [
    "# Ejercicio 5"
   ]
  },
  {
   "cell_type": "code",
   "execution_count": 41,
   "id": "fa042334",
   "metadata": {},
   "outputs": [],
   "source": [
    "e = math.e\n",
    "funcionBird = lambda x: math.sin(x[1])* e**((1-math.cos(x[0]))**2) + math.cos(x[0]) * e**((1-math.sin(x[1]))**2) + (x[0]-x[1])**2"
   ]
  },
  {
   "cell_type": "code",
   "execution_count": 104,
   "id": "63ec781e",
   "metadata": {},
   "outputs": [],
   "source": [
    "xlim = [-15.1,15.1]\n",
    "ylim = [-15.1, 15.1]"
   ]
  },
  {
   "cell_type": "code",
   "execution_count": 105,
   "id": "b76fbae3",
   "metadata": {},
   "outputs": [],
   "source": [
    "x = np.linspace(xlim[0], xlim[1], 1000)\n",
    "y = np.linspace(ylim[0], ylim[1], 1000)\n",
    "xposta = []\n",
    "yposta = []\n",
    "z = []\n",
    "for i in x:\n",
    "    for j in y:\n",
    "        z.append(funcionBird([i,j]))\n",
    "        xposta.append(i)\n",
    "        yposta.append(j)"
   ]
  },
  {
   "cell_type": "code",
   "execution_count": 106,
   "id": "369d75dd",
   "metadata": {},
   "outputs": [
    {
     "data": {
      "image/png": "[encoded data removed]",
      "text/plain": [
       "<Figure size 432x288 with 1 Axes>"
      ]
     },
     "metadata": {
      "needs_background": "light"
     },
     "output_type": "display_data"
    }
   ],
   "source": [
    "fig = plt.figure()\n",
    "ax = fig.add_subplot(projection='3d')\n",
    "ax.scatter(yposta,xposta,z, c=z, cmap='plasma')\n",
    "plt.show()"
   ]
  },
  {
   "cell_type": "code",
   "execution_count": 47,
   "id": "77aee480",
   "metadata": {},
   "outputs": [],
   "source": [
    "def correrMuchosPuntos(f, puntos):\n",
    "  recorridos = []\n",
    "  finales = []\n",
    "  finsx = []\n",
    "  finsy = []\n",
    "   for p in puntos:\n",
    "    n = (newtonConModificacionLevenbergMarquardt(f, p, 1))\n",
    "    recorridos.append(n[2])\n",
    "    finales.append(np.round((n[0]+0.001)*1000)/1000 - 0.001)\n",
    "    finsx.append(np.round((n[0][0]+0.001)*1000)/1000 - 0.001)\n",
    "    finsy.append(np.round((n[0][1]+0.001)*1000)/1000 - 0.001)\n",
    "  return finales,recorridos, finsx, finsy"
   ]
  },
  {
   "cell_type": "code",
   "execution_count": 48,
   "id": "59662b8d",
   "metadata": {},
   "outputs": [],
   "source": [
    "def puntoFinalColores(finales, recorridos):\n",
    "  dicc = {}\n",
    "  cont = 0\n",
    "  for i in range (0, len(finales)):\n",
    "    if(str(finales[i]) not in dicc):\n",
    "      dicc[str(finales[i])] = recorridos[i]\n",
    "      cont = cont + 1\n",
    "    else:\n",
    "      dicc[str(finales[i])] =  dicc[str(finales[i])] +  recorridos[i]\n",
    "  return dicc\n"
   ]
  },
  {
   "cell_type": "code",
   "execution_count": 49,
   "id": "08403cff",
   "metadata": {},
   "outputs": [],
   "source": [
    "def generarGrillaPuntos(xlims, ylims, pasito):\n",
    "  xm = xlims[0]\n",
    "  ym = ylims[0]\n",
    "  puntos = []\n",
    "  while(ym<ylims[1]):\n",
    "    if(xm>xlims[1]):\n",
    "      xm =  xlims[0]\n",
    "      ym = ym + pasito\n",
    "    puntos.append(np.array([xm,ym]))\n",
    "    xm = xm + pasito\n",
    "  return puntos"
   ]
  },
  {
   "cell_type": "code",
   "execution_count": 92,
   "metadata": {},
   "outputs": [],
   "source": [
    "def generarPuntosAleatorios(borde, n):\n",
    "    puntos = []\n",
    "    for i in range(1, n):\n",
    "        punto = 2*borde*np.random.random(2)-borde\n",
    "        puntos.append(punto)\n",
    "    return puntos"
   ]
  },
  {
   "cell_type": "code",
   "execution_count": 50,
   "id": "f72f8c9a",
   "metadata": {},
   "outputs": [],
   "source": [
    "\n",
    "def graficar_recorrido(f, limites, recorrido=None, levels=10):\n",
    "    \"\"\" \n",
    "    Función que grafica curvas de nivel y, opcionalmente, el recorrido de un método.\n",
    "    f : es la función a graficar (tiene que ir de R2 en R)\n",
    "    limites : es una lista o tupla de números: [a,b,c,d]. Va a graficar la función en el cuadrado [a,b] x [c,d]\n",
    "    recorrido : acepta una lista de arrays bidimensionales para graficar el recorrido de un método\n",
    "    levels : cantidad de curvas de nivel a graficar\n",
    "    \"\"\"\n",
    "    plt.figure()\n",
    "    x = np.linspace(limites[0], limites[1], 1000)\n",
    "    y = np.linspace(limites[2], limites[3], 1000)\n",
    "    X, Y = np.meshgrid(x, y)\n",
    "    Z = f([X, Y])\n",
    "    plt.contour(X,Y,Z, cmap='plasma', levels=levels)\n",
    "    if recorrido is not None:\n",
    "        x_coords = [x[0] for x in recorrido]\n",
    "        y_coords = [x[1] for x in recorrido]\n",
    "        plt.plot(x_coords, y_coords, marker='o', lw=2, ms=8)\n",
    "    plt.tight_layout()\n",
    "    plt.gca().set_aspect('equal', adjustable='box')\n",
    "    plt.show()"
   ]
  },
  {
   "cell_type": "code",
   "execution_count": 51,
   "id": "4f687218",
   "metadata": {},
   "outputs": [],
   "source": [
    "puntos = generarGrillaPuntos([-15,15],[-15,15],0.18)"
   ]
  },
  {
   "cell_type": "code",
   "execution_count": 95,
   "metadata": {},
   "outputs": [],
   "source": [
    "puntosRand = generarPuntosAleatorios(15, 10000)"
   ]
  },
  {
   "cell_type": "code",
   "execution_count": 96,
   "id": "6e2c2656",
   "metadata": {},
   "outputs": [],
   "source": [
    "(fines, recs, finsx, finsy) = correrMuchosPuntos(funcionBird, puntosRand)"
   ]
  },
  {
   "cell_type": "code",
   "execution_count": 97,
   "id": "8f8aacd9",
   "metadata": {},
   "outputs": [],
   "source": [
    "dicc = puntoFinalColores(fines, recs)"
   ]
  },
  {
   "cell_type": "code",
   "execution_count": 98,
   "id": "6b1bbe1e",
   "metadata": {},
   "outputs": [],
   "source": [
    "valoresPuntosFinales = list(map(funcionBird,fines))"
   ]
  },
  {
   "cell_type": "code",
   "execution_count": 99,
   "id": "909d322f",
   "metadata": {},
   "outputs": [],
   "source": [
    "dfFines = pd.DataFrame({'x': finsx, 'y': finsy, 'z': valoresPuntosFinales, 'recorridos': recs})"
   ]
  },
  {
   "cell_type": "code",
   "execution_count": 100,
   "id": "f481825a",
   "metadata": {},
   "outputs": [
    {
     "data": {
      "text/plain": [
       "-106.76453672963636"
      ]
     },
     "execution_count": 100,
     "metadata": {},
     "output_type": "execute_result"
    }
   ],
   "source": [
    "funcionBird([ 3.15294,4.701055])"
   ]
  },
  {
   "cell_type": "code",
   "execution_count": 101,
   "metadata": {},
   "outputs": [],
   "source": [
    "dfFines = dfFines[(dfFines[\"x\"]<15) & (dfFines[\"x\"]> -15) & (dfFines[\"y\"]<15) & (dfFines[\"y\"]> -15)]"
   ]
  },
  {
   "cell_type": "code",
   "execution_count": 102,
   "metadata": {},
   "outputs": [],
   "source": [
    "result_df = dfFines.drop_duplicates(subset=['x', 'y'], keep='first')"
   ]
  },
  {
   "cell_type": "code",
   "execution_count": 103,
   "metadata": {},
   "outputs": [
    {
     "data": {
      "text/html": [
       "<div>\n",
       "<style scoped>\n",
       "    .dataframe tbody tr th:only-of-type {\n",
       "        vertical-align: middle;\n",
       "    }\n",
       "\n",
       "    .dataframe tbody tr th {\n",
       "        vertical-align: top;\n",
       "    }\n",
       "\n",
       "    .dataframe thead th {\n",
       "        text-align: right;\n",
       "    }\n",
       "</style>\n",
       "<table border=\"1\" class=\"dataframe\">\n",
       "  <thead>\n",
       "    <tr style=\"text-align: right;\">\n",
       "      <th></th>\n",
       "      <th>x</th>\n",
       "      <th>y</th>\n",
       "      <th>z</th>\n",
       "      <th>recorridos</th>\n",
       "    </tr>\n",
       "  </thead>\n",
       "  <tbody>\n",
       "    <tr>\n",
       "      <th>3</th>\n",
       "      <td>3.153</td>\n",
       "      <td>4.701</td>\n",
       "      <td>-106.764536</td>\n",
       "      <td>[[1.8401604710686819, 6.175414000626706], [3.1...</td>\n",
       "    </tr>\n",
       "    <tr>\n",
       "      <th>0</th>\n",
       "      <td>9.436</td>\n",
       "      <td>10.984</td>\n",
       "      <td>-106.764528</td>\n",
       "      <td>[[10.50345837064069, 7.480588514338351], [11.4...</td>\n",
       "    </tr>\n",
       "    <tr>\n",
       "      <th>15</th>\n",
       "      <td>-3.130</td>\n",
       "      <td>-1.582</td>\n",
       "      <td>-106.764526</td>\n",
       "      <td>[[-1.8914336570320387, 7.000686270524941], [-4...</td>\n",
       "    </tr>\n",
       "    <tr>\n",
       "      <th>11</th>\n",
       "      <td>-9.413</td>\n",
       "      <td>-7.865</td>\n",
       "      <td>-106.764497</td>\n",
       "      <td>[[-4.71513503677463, 8.738878934558254], [-9.6...</td>\n",
       "    </tr>\n",
       "    <tr>\n",
       "      <th>20</th>\n",
       "      <td>-9.459</td>\n",
       "      <td>-14.103</td>\n",
       "      <td>-87.310882</td>\n",
       "      <td>[[-0.14898955933426095, -13.447414753573003], ...</td>\n",
       "    </tr>\n",
       "  </tbody>\n",
       "</table>\n",
       "</div>"
      ],
      "text/plain": [
       "        x       y           z  \\\n",
       "3   3.153   4.701 -106.764536   \n",
       "0   9.436  10.984 -106.764528   \n",
       "15 -3.130  -1.582 -106.764526   \n",
       "11 -9.413  -7.865 -106.764497   \n",
       "20 -9.459 -14.103  -87.310882   \n",
       "\n",
       "                                           recorridos  \n",
       "3   [[1.8401604710686819, 6.175414000626706], [3.1...  \n",
       "0   [[10.50345837064069, 7.480588514338351], [11.4...  \n",
       "15  [[-1.8914336570320387, 7.000686270524941], [-4...  \n",
       "11  [[-4.71513503677463, 8.738878934558254], [-9.6...  \n",
       "20  [[-0.14898955933426095, -13.447414753573003], ...  "
      ]
     },
     "execution_count": 103,
     "metadata": {},
     "output_type": "execute_result"
    }
   ],
   "source": [
    "result_df.sort_values('z').head()"
   ]
  },
  {
   "cell_type": "code",
   "execution_count": 84,
   "id": "acdd7027",
   "metadata": {},
   "outputs": [
    {
     "data": {
      "text/plain": [
       "x             42\n",
       "y             42\n",
       "z             42\n",
       "recorridos    42\n",
       "dtype: int64"
      ]
     },
     "execution_count": 84,
     "metadata": {},
     "output_type": "execute_result"
    }
   ],
   "source": [
    "result_df.count()"
   ]
  },
  {
   "cell_type": "markdown",
   "metadata": {},
   "source": [
    "Obtenemos asi 42 puntos criticos en los intervalos [-15, 15] ** 2,  y de ellos pudemos identificar los minimizadores\n",
    "Esto lo podemos hacer con puntos elegidos al azar o con la grilla, los resultados son identicos"
   ]
  },
  {
   "cell_type": "code",
   "execution_count": 85,
   "id": "630b7dbb",
   "metadata": {},
   "outputs": [
    {
     "data": {
      "text/plain": [
       "\"def graficar_finales(f, xlims, ylims, dicc, levels=10):\\n\\n    plt.figure()\\n\\n    x = np.linspace(xlim[0], xlim[1], 100)\\n    y = np.linspace(ylim[0], ylim[1], 100)\\n    z = []\\n    for i in x:\\n        for j in y:\\n            z.append(funcionBird([i,j]))\\n    x = list(x) * len(y)\\n    y = list(y) * len(y)\\n    valores = dicc.values()\\n    for lista in valores:\\n        x_coords = [x[0] for x in lista]\\n        y_coords = [x[1] for x in lista]\\n        plt.plot(x_coords, y_coords, lw=0.08, ms=1)\\n    plt.tight_layout()\\n    plt.gca().set_aspect('equal', adjustable='box')\\n    plt.xlim([xlim[0],xlim[1]])\\n    plt.ylim([ylim[0],ylim[1]])\\n\\n    plt.show()\""
      ]
     },
     "execution_count": 85,
     "metadata": {},
     "output_type": "execute_result"
    }
   ],
   "source": [
    "\"\"\"def graficar_finales(f, xlims, ylims, dicc, levels=10):\n",
    "\n",
    "    plt.figure()\n",
    "\n",
    "    x = np.linspace(xlim[0], xlim[1], 100)\n",
    "    y = np.linspace(ylim[0], ylim[1], 100)\n",
    "    z = []\n",
    "    for i in x:\n",
    "        for j in y:\n",
    "            z.append(funcionBird([i,j]))\n",
    "    x = list(x) * len(y)\n",
    "    y = list(y) * len(y)\n",
    "    valores = dicc.values()\n",
    "    for lista in valores:\n",
    "        x_coords = [x[0] for x in lista]\n",
    "        y_coords = [x[1] for x in lista]\n",
    "        plt.plot(x_coords, y_coords, lw=0.08, ms=1)\n",
    "    plt.tight_layout()\n",
    "    plt.gca().set_aspect('equal', adjustable='box')\n",
    "    plt.xlim([xlim[0],xlim[1]])\n",
    "    plt.ylim([ylim[0],ylim[1]])\n",
    "\n",
    "    plt.show()\"\"\""
   ]
  },
  {
   "cell_type": "code",
   "execution_count": null,
   "metadata": {},
   "outputs": [],
   "source": []
  }
 ],
 "metadata": {
  "colab": {
   "provenance": []
  },
  "kernelspec": {
   "display_name": "Python 3 (ipykernel)",
   "language": "python",
   "name": "python3"
  },
  "language_info": {
   "codemirror_mode": {
    "name": "ipython",
    "version": 3
   },
   "file_extension": ".py",
   "mimetype": "text/x-python",
   "name": "python",
   "nbconvert_exporter": "python",
   "pygments_lexer": "ipython3",
   "version": "3.8.10"
  },
  "vscode": {
   "interpreter": {
    "hash": "31f2aee4e71d21fbe5cf8b01ff0e069b9275f58929596ceb00d14d90e3e16cd6"
   }
  }
 },
 "nbformat": 4,
 "nbformat_minor": 5
}
